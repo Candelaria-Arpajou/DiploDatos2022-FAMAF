{
  "cells": [
    {
      "cell_type": "markdown",
      "source": [
        "\n",
        "**Diplomatura en Ciencia de Datos, Aprendizaje Automático y sus Aplicaciones**\n",
        "\n",
        "\n",
        "---\n",
        "\n",
        "\n",
        "Integrantes:\n",
        "*   Candelaria Arpajou: mcarpajou@santafe-conicet.gov.ar\n",
        "*   Hugo Folonier: hugofolonier@gmail.com\n",
        "*   Gustavo Jaca: gustavojaca@gmail.com\n",
        "\n",
        "**Edición 2022**\n",
        "\n",
        "---\n",
        "# Apendizaje Supervisado"
      ],
      "metadata": {
        "id": "Q6a5KxZ-egcH"
      }
    },
    {
      "cell_type": "markdown",
      "metadata": {
        "id": "eqhviidII231"
      },
      "source": [
        "#**Trabajo práctico entregable**\n",
        "\n",
        "Esta competencia ha sido creada a partir de la competencia [Spaceship Titanic](https://www.kaggle.com/competitions/spaceship-titanic/overview). \n",
        "\n",
        "Los datos fueron tomados originalmente de la competencia y se generaron los datasets de entrenamiento y evaluación.\n",
        "\n",
        "**Requerimientos del práctico**\n",
        "\n",
        "1.   Realizar un análisis exploratorio de datos, y utilizar lo aprendido para generar su mejor modelo.\n",
        "2.   Superar el puntaje del baseline (público) en la competencia kaggle.\n",
        "3.   Usar al menos 3 modelos distintos al del árbol de decisión que se explora como baseline (se puede explorar más profundamente el árbol de decisión, pero aún así deberán explorar otros modelos).\n",
        "4.   Entregar un notebook con el análisis exploratorio de datos y el código con los 3 mejores modelos entregados en la competencia (de acuerdo a los resultados obtenidos).\n",
        "\n",
        "**Pasos a seguir**\n",
        "\n",
        "1.   Crear una cuenta en kaggle.com.\n",
        "2.   Sumarse a la competencia [acá](https://www.kaggle.com/t/d7dfd142ac1042168d052624b3dee531)\n",
        "3.   Hacer click en \"Join Competition\".\n",
        "4.   Aceptar las reglas.\n",
        "5.   Crear un equipo (Team): El trabajo se evaluará en los grupos asignados.\n",
        "Pueden descargar los datos (Data), aunque también están incluidos en este repo.\n",
        "6.   Una vez realizada una predicción (ver ejemplo abajo), subir los resultados a kaggle haciendo click en \"Submit Predictions\" en la página principal de la competencia. Ahí deberán subir el archivo csv generado y describir (para sus registros) qué están subiendo.\n",
        "\n",
        "**Un ejemplo**\n",
        "\n",
        "Adjuntamos una implementación que tiene por objetivo:\n",
        "\n",
        "*   Levantar los datos que usaremos.\n",
        "*   Analizar de una manera simple los datos.\n",
        "*   Preparar los datos para procesarlos con un modelo en particular.\n",
        "*   Crear un baseline para la competencia.\n",
        "*   Generar el archivo que se subirá a kaggle para su evaluación.\n",
        "\n",
        "**Subir una predicción a Kaggle**\n",
        "\n",
        "En el ejemplo de baseline que se entrega, se genera un archivo en el path data/submission.csv. Tal archivo es un csv con un formato en particular, que asigna a números de visita en el conjunto de test, una predicción de si fue teletransportado o no a otra dimensión alternativa. Ese archivo debe ser subido a kaggle como lo explicamos arriba: haciendo click en \"Submit Predictions\" en la página principal de la competencia.\n",
        "\n",
        "**Algunas consideraciones**\n",
        "\n",
        "*   En el baseline solo se utiliza cross-validation (mediante GridSearchCV) para evaluar el modelo, son libres de generar un subconjunto de validación aparte del conjunto de entrenamiento si así lo desean.\n",
        "*   Los features escogidos no tienen ningún análisis y son casi por defecto. Parte del proceso de encontrar un buen modelo es ver como trabajar dichos features.\n",
        "*   La métrica a optimizar será el accuracy score."
      ]
    },
    {
      "cell_type": "markdown",
      "metadata": {
        "id": "zkarrObnJRgW"
      },
      "source": [
        "# **Desarrollo**"
      ]
    },
    {
      "cell_type": "markdown",
      "metadata": {
        "id": "wMLGzS_-c5EM"
      },
      "source": [
        "## **Librerias y módulos**"
      ]
    },
    {
      "cell_type": "code",
      "execution_count": null,
      "metadata": {
        "id": "_ReXh7FUI2Cc"
      },
      "outputs": [],
      "source": [
        "import pandas as pd\n",
        "import seaborn as sns\n",
        "import matplotlib.pyplot as plt\n",
        "import numpy as np\n",
        "\n",
        "from missingno import matrix\n",
        "\n",
        "from sklearn.model_selection import train_test_split\n",
        "from sklearn.compose import ColumnTransformer\n",
        "from sklearn.impute import SimpleImputer\n",
        "from sklearn.impute import KNNImputer\n",
        "\n",
        "from sklearn.experimental import enable_iterative_imputer # Hay que habilitar el Imputador antes de importarlo porque es experimental\n",
        "from sklearn.impute import IterativeImputer\n",
        "\n",
        "from sklearn.linear_model import SGDClassifier\n",
        "from sklearn.metrics import accuracy_score, precision_score, recall_score,confusion_matrix,f1_score,roc_auc_score,roc_curve\n",
        "\n",
        "from sklearn.model_selection import GridSearchCV,cross_val_predict\n",
        "from sklearn.model_selection import RandomizedSearchCV\n",
        "from sklearn.model_selection import cross_val_score\n",
        "\n",
        "from sklearn.pipeline import Pipeline\n",
        "from sklearn.preprocessing import OneHotEncoder\n",
        "from sklearn.preprocessing import OrdinalEncoder\n",
        "from sklearn.preprocessing import StandardScaler\n",
        "\n",
        "from sklearn.svm import LinearSVC\n",
        "from sklearn.svm import SVC\n",
        "\n",
        "from sklearn import tree\n",
        "from sklearn.tree import DecisionTreeClassifier\n",
        "\n",
        "from sklearn.neural_network import MLPClassifier\n",
        "\n",
        "from sklearn.ensemble import GradientBoostingClassifier\n",
        "from sklearn.ensemble import RandomForestClassifier\n",
        "from sklearn.ensemble import HistGradientBoostingClassifier"
      ]
    },
    {
      "cell_type": "markdown",
      "metadata": {
        "id": "KX9I41uorHRR"
      },
      "source": [
        "##**Análisis Exploratorio**"
      ]
    },
    {
      "cell_type": "markdown",
      "metadata": {
        "id": "bqTHFFjEJmPj"
      },
      "source": [
        "### Tablero"
      ]
    },
    {
      "cell_type": "code",
      "execution_count": null,
      "metadata": {
        "id": "Z7j1gGd3eJxL"
      },
      "outputs": [],
      "source": [
        "dataset = 'diplodatos' # ['diplodatos'|'kaggle']\n",
        "modo = 'full' # ['sample'|'full']"
      ]
    },
    {
      "cell_type": "markdown",
      "metadata": {
        "id": "zd1b2QLLrN5k"
      },
      "source": [
        "### Carga del DF"
      ]
    },
    {
      "cell_type": "code",
      "execution_count": null,
      "metadata": {
        "colab": {
          "base_uri": "https://localhost:8080/",
          "height": 424
        },
        "id": "Yd4eyy6sU7Qk",
        "outputId": "54630489-3a60-4a8c-c53f-5d28206c32a0"
      },
      "outputs": [
        {
          "output_type": "execute_result",
          "data": {
            "text/plain": [
              "      PassengerId HomePlanet CryoSleep     Cabin  Destination   Age    VIP  \\\n",
              "0            3430     Europa     False   C/123/P  TRAPPIST-1e  57.0  False   \n",
              "1             669       Mars      True   F/126/S          NaN  18.0  False   \n",
              "2            8430     Europa      True   B/343/S  TRAPPIST-1e  33.0    NaN   \n",
              "3            6463      Earth     False  F/1420/P  TRAPPIST-1e  43.0  False   \n",
              "4              85      Earth     False     G/9/P  TRAPPIST-1e  19.0  False   \n",
              "...           ...        ...       ...       ...          ...   ...    ...   \n",
              "7818         6528       Mars     False  F/1319/S  TRAPPIST-1e  12.0    NaN   \n",
              "7819         2693      Earth     False   G/459/S  TRAPPIST-1e  44.0  False   \n",
              "7820         8076       Mars      True  F/1772/P  TRAPPIST-1e  55.0  False   \n",
              "7821         3829      Earth     False   E/253/P  TRAPPIST-1e  15.0  False   \n",
              "7822         7624     Europa      True   B/270/P  55 Cancri e  45.0  False   \n",
              "\n",
              "      RoomService  FoodCourt  ShoppingMall    Spa  VRDeck               Name  \\\n",
              "0             0.0     3859.0          13.0  195.0  3874.0     Azhah Tronsive   \n",
              "1             0.0        0.0           0.0    0.0     0.0         Roswal Sha   \n",
              "2             0.0        0.0           0.0    0.0     0.0  Shaiam Tinganking   \n",
              "3           142.0     1208.0           0.0    0.0   204.0     Landa Grifford   \n",
              "4             0.0        0.0         670.0    1.0    34.0     Gracy Dunnisey   \n",
              "...           ...        ...           ...    ...     ...                ...   \n",
              "7818          0.0        0.0           0.0    0.0     0.0        Risps Hacle   \n",
              "7819          0.0        0.0         744.0   62.0     3.0      Gabrie Reenez   \n",
              "7820          0.0        0.0           0.0    0.0     0.0       Panzel Ruity   \n",
              "7821          0.0      840.0         123.0    0.0    20.0    Belly Weavesend   \n",
              "7822          0.0        0.0           0.0    0.0     0.0  Graston Donotaked   \n",
              "\n",
              "      Transported  \n",
              "0               0  \n",
              "1               1  \n",
              "2               1  \n",
              "3               0  \n",
              "4               0  \n",
              "...           ...  \n",
              "7818            1  \n",
              "7819            0  \n",
              "7820            1  \n",
              "7821            0  \n",
              "7822            1  \n",
              "\n",
              "[7823 rows x 14 columns]"
            ],
            "text/html": [
              "\n",
              "  <div id=\"df-408e27c9-979a-46d0-97e3-dff508935e78\">\n",
              "    <div class=\"colab-df-container\">\n",
              "      <div>\n",
              "<style scoped>\n",
              "    .dataframe tbody tr th:only-of-type {\n",
              "        vertical-align: middle;\n",
              "    }\n",
              "\n",
              "    .dataframe tbody tr th {\n",
              "        vertical-align: top;\n",
              "    }\n",
              "\n",
              "    .dataframe thead th {\n",
              "        text-align: right;\n",
              "    }\n",
              "</style>\n",
              "<table border=\"1\" class=\"dataframe\">\n",
              "  <thead>\n",
              "    <tr style=\"text-align: right;\">\n",
              "      <th></th>\n",
              "      <th>PassengerId</th>\n",
              "      <th>HomePlanet</th>\n",
              "      <th>CryoSleep</th>\n",
              "      <th>Cabin</th>\n",
              "      <th>Destination</th>\n",
              "      <th>Age</th>\n",
              "      <th>VIP</th>\n",
              "      <th>RoomService</th>\n",
              "      <th>FoodCourt</th>\n",
              "      <th>ShoppingMall</th>\n",
              "      <th>Spa</th>\n",
              "      <th>VRDeck</th>\n",
              "      <th>Name</th>\n",
              "      <th>Transported</th>\n",
              "    </tr>\n",
              "  </thead>\n",
              "  <tbody>\n",
              "    <tr>\n",
              "      <th>0</th>\n",
              "      <td>3430</td>\n",
              "      <td>Europa</td>\n",
              "      <td>False</td>\n",
              "      <td>C/123/P</td>\n",
              "      <td>TRAPPIST-1e</td>\n",
              "      <td>57.0</td>\n",
              "      <td>False</td>\n",
              "      <td>0.0</td>\n",
              "      <td>3859.0</td>\n",
              "      <td>13.0</td>\n",
              "      <td>195.0</td>\n",
              "      <td>3874.0</td>\n",
              "      <td>Azhah Tronsive</td>\n",
              "      <td>0</td>\n",
              "    </tr>\n",
              "    <tr>\n",
              "      <th>1</th>\n",
              "      <td>669</td>\n",
              "      <td>Mars</td>\n",
              "      <td>True</td>\n",
              "      <td>F/126/S</td>\n",
              "      <td>NaN</td>\n",
              "      <td>18.0</td>\n",
              "      <td>False</td>\n",
              "      <td>0.0</td>\n",
              "      <td>0.0</td>\n",
              "      <td>0.0</td>\n",
              "      <td>0.0</td>\n",
              "      <td>0.0</td>\n",
              "      <td>Roswal Sha</td>\n",
              "      <td>1</td>\n",
              "    </tr>\n",
              "    <tr>\n",
              "      <th>2</th>\n",
              "      <td>8430</td>\n",
              "      <td>Europa</td>\n",
              "      <td>True</td>\n",
              "      <td>B/343/S</td>\n",
              "      <td>TRAPPIST-1e</td>\n",
              "      <td>33.0</td>\n",
              "      <td>NaN</td>\n",
              "      <td>0.0</td>\n",
              "      <td>0.0</td>\n",
              "      <td>0.0</td>\n",
              "      <td>0.0</td>\n",
              "      <td>0.0</td>\n",
              "      <td>Shaiam Tinganking</td>\n",
              "      <td>1</td>\n",
              "    </tr>\n",
              "    <tr>\n",
              "      <th>3</th>\n",
              "      <td>6463</td>\n",
              "      <td>Earth</td>\n",
              "      <td>False</td>\n",
              "      <td>F/1420/P</td>\n",
              "      <td>TRAPPIST-1e</td>\n",
              "      <td>43.0</td>\n",
              "      <td>False</td>\n",
              "      <td>142.0</td>\n",
              "      <td>1208.0</td>\n",
              "      <td>0.0</td>\n",
              "      <td>0.0</td>\n",
              "      <td>204.0</td>\n",
              "      <td>Landa Grifford</td>\n",
              "      <td>0</td>\n",
              "    </tr>\n",
              "    <tr>\n",
              "      <th>4</th>\n",
              "      <td>85</td>\n",
              "      <td>Earth</td>\n",
              "      <td>False</td>\n",
              "      <td>G/9/P</td>\n",
              "      <td>TRAPPIST-1e</td>\n",
              "      <td>19.0</td>\n",
              "      <td>False</td>\n",
              "      <td>0.0</td>\n",
              "      <td>0.0</td>\n",
              "      <td>670.0</td>\n",
              "      <td>1.0</td>\n",
              "      <td>34.0</td>\n",
              "      <td>Gracy Dunnisey</td>\n",
              "      <td>0</td>\n",
              "    </tr>\n",
              "    <tr>\n",
              "      <th>...</th>\n",
              "      <td>...</td>\n",
              "      <td>...</td>\n",
              "      <td>...</td>\n",
              "      <td>...</td>\n",
              "      <td>...</td>\n",
              "      <td>...</td>\n",
              "      <td>...</td>\n",
              "      <td>...</td>\n",
              "      <td>...</td>\n",
              "      <td>...</td>\n",
              "      <td>...</td>\n",
              "      <td>...</td>\n",
              "      <td>...</td>\n",
              "      <td>...</td>\n",
              "    </tr>\n",
              "    <tr>\n",
              "      <th>7818</th>\n",
              "      <td>6528</td>\n",
              "      <td>Mars</td>\n",
              "      <td>False</td>\n",
              "      <td>F/1319/S</td>\n",
              "      <td>TRAPPIST-1e</td>\n",
              "      <td>12.0</td>\n",
              "      <td>NaN</td>\n",
              "      <td>0.0</td>\n",
              "      <td>0.0</td>\n",
              "      <td>0.0</td>\n",
              "      <td>0.0</td>\n",
              "      <td>0.0</td>\n",
              "      <td>Risps Hacle</td>\n",
              "      <td>1</td>\n",
              "    </tr>\n",
              "    <tr>\n",
              "      <th>7819</th>\n",
              "      <td>2693</td>\n",
              "      <td>Earth</td>\n",
              "      <td>False</td>\n",
              "      <td>G/459/S</td>\n",
              "      <td>TRAPPIST-1e</td>\n",
              "      <td>44.0</td>\n",
              "      <td>False</td>\n",
              "      <td>0.0</td>\n",
              "      <td>0.0</td>\n",
              "      <td>744.0</td>\n",
              "      <td>62.0</td>\n",
              "      <td>3.0</td>\n",
              "      <td>Gabrie Reenez</td>\n",
              "      <td>0</td>\n",
              "    </tr>\n",
              "    <tr>\n",
              "      <th>7820</th>\n",
              "      <td>8076</td>\n",
              "      <td>Mars</td>\n",
              "      <td>True</td>\n",
              "      <td>F/1772/P</td>\n",
              "      <td>TRAPPIST-1e</td>\n",
              "      <td>55.0</td>\n",
              "      <td>False</td>\n",
              "      <td>0.0</td>\n",
              "      <td>0.0</td>\n",
              "      <td>0.0</td>\n",
              "      <td>0.0</td>\n",
              "      <td>0.0</td>\n",
              "      <td>Panzel Ruity</td>\n",
              "      <td>1</td>\n",
              "    </tr>\n",
              "    <tr>\n",
              "      <th>7821</th>\n",
              "      <td>3829</td>\n",
              "      <td>Earth</td>\n",
              "      <td>False</td>\n",
              "      <td>E/253/P</td>\n",
              "      <td>TRAPPIST-1e</td>\n",
              "      <td>15.0</td>\n",
              "      <td>False</td>\n",
              "      <td>0.0</td>\n",
              "      <td>840.0</td>\n",
              "      <td>123.0</td>\n",
              "      <td>0.0</td>\n",
              "      <td>20.0</td>\n",
              "      <td>Belly Weavesend</td>\n",
              "      <td>0</td>\n",
              "    </tr>\n",
              "    <tr>\n",
              "      <th>7822</th>\n",
              "      <td>7624</td>\n",
              "      <td>Europa</td>\n",
              "      <td>True</td>\n",
              "      <td>B/270/P</td>\n",
              "      <td>55 Cancri e</td>\n",
              "      <td>45.0</td>\n",
              "      <td>False</td>\n",
              "      <td>0.0</td>\n",
              "      <td>0.0</td>\n",
              "      <td>0.0</td>\n",
              "      <td>0.0</td>\n",
              "      <td>0.0</td>\n",
              "      <td>Graston Donotaked</td>\n",
              "      <td>1</td>\n",
              "    </tr>\n",
              "  </tbody>\n",
              "</table>\n",
              "<p>7823 rows × 14 columns</p>\n",
              "</div>\n",
              "      <button class=\"colab-df-convert\" onclick=\"convertToInteractive('df-408e27c9-979a-46d0-97e3-dff508935e78')\"\n",
              "              title=\"Convert this dataframe to an interactive table.\"\n",
              "              style=\"display:none;\">\n",
              "        \n",
              "  <svg xmlns=\"http://www.w3.org/2000/svg\" height=\"24px\"viewBox=\"0 0 24 24\"\n",
              "       width=\"24px\">\n",
              "    <path d=\"M0 0h24v24H0V0z\" fill=\"none\"/>\n",
              "    <path d=\"M18.56 5.44l.94 2.06.94-2.06 2.06-.94-2.06-.94-.94-2.06-.94 2.06-2.06.94zm-11 1L8.5 8.5l.94-2.06 2.06-.94-2.06-.94L8.5 2.5l-.94 2.06-2.06.94zm10 10l.94 2.06.94-2.06 2.06-.94-2.06-.94-.94-2.06-.94 2.06-2.06.94z\"/><path d=\"M17.41 7.96l-1.37-1.37c-.4-.4-.92-.59-1.43-.59-.52 0-1.04.2-1.43.59L10.3 9.45l-7.72 7.72c-.78.78-.78 2.05 0 2.83L4 21.41c.39.39.9.59 1.41.59.51 0 1.02-.2 1.41-.59l7.78-7.78 2.81-2.81c.8-.78.8-2.07 0-2.86zM5.41 20L4 18.59l7.72-7.72 1.47 1.35L5.41 20z\"/>\n",
              "  </svg>\n",
              "      </button>\n",
              "      \n",
              "  <style>\n",
              "    .colab-df-container {\n",
              "      display:flex;\n",
              "      flex-wrap:wrap;\n",
              "      gap: 12px;\n",
              "    }\n",
              "\n",
              "    .colab-df-convert {\n",
              "      background-color: #E8F0FE;\n",
              "      border: none;\n",
              "      border-radius: 50%;\n",
              "      cursor: pointer;\n",
              "      display: none;\n",
              "      fill: #1967D2;\n",
              "      height: 32px;\n",
              "      padding: 0 0 0 0;\n",
              "      width: 32px;\n",
              "    }\n",
              "\n",
              "    .colab-df-convert:hover {\n",
              "      background-color: #E2EBFA;\n",
              "      box-shadow: 0px 1px 2px rgba(60, 64, 67, 0.3), 0px 1px 3px 1px rgba(60, 64, 67, 0.15);\n",
              "      fill: #174EA6;\n",
              "    }\n",
              "\n",
              "    [theme=dark] .colab-df-convert {\n",
              "      background-color: #3B4455;\n",
              "      fill: #D2E3FC;\n",
              "    }\n",
              "\n",
              "    [theme=dark] .colab-df-convert:hover {\n",
              "      background-color: #434B5C;\n",
              "      box-shadow: 0px 1px 3px 1px rgba(0, 0, 0, 0.15);\n",
              "      filter: drop-shadow(0px 1px 2px rgba(0, 0, 0, 0.3));\n",
              "      fill: #FFFFFF;\n",
              "    }\n",
              "  </style>\n",
              "\n",
              "      <script>\n",
              "        const buttonEl =\n",
              "          document.querySelector('#df-408e27c9-979a-46d0-97e3-dff508935e78 button.colab-df-convert');\n",
              "        buttonEl.style.display =\n",
              "          google.colab.kernel.accessAllowed ? 'block' : 'none';\n",
              "\n",
              "        async function convertToInteractive(key) {\n",
              "          const element = document.querySelector('#df-408e27c9-979a-46d0-97e3-dff508935e78');\n",
              "          const dataTable =\n",
              "            await google.colab.kernel.invokeFunction('convertToInteractive',\n",
              "                                                     [key], {});\n",
              "          if (!dataTable) return;\n",
              "\n",
              "          const docLinkHtml = 'Like what you see? Visit the ' +\n",
              "            '<a target=\"_blank\" href=https://colab.research.google.com/notebooks/data_table.ipynb>data table notebook</a>'\n",
              "            + ' to learn more about interactive tables.';\n",
              "          element.innerHTML = '';\n",
              "          dataTable['output_type'] = 'display_data';\n",
              "          await google.colab.output.renderOutput(dataTable, element);\n",
              "          const docLink = document.createElement('div');\n",
              "          docLink.innerHTML = docLinkHtml;\n",
              "          element.appendChild(docLink);\n",
              "        }\n",
              "      </script>\n",
              "    </div>\n",
              "  </div>\n",
              "  "
            ]
          },
          "metadata": {},
          "execution_count": 157
        }
      ],
      "source": [
        "if dataset == 'kaggle':\n",
        "  url = 'https://drive.google.com/file/d/1pa8STh4y3MYqJw1JvzS_VpCJwSFLZ4JQ/view?usp=sharing' # Dataset de la competencia de Kaggle\n",
        "  path = 'https://drive.google.com/uc?export=download&id='+url.split('/')[-2] \n",
        "if dataset == 'diplodatos':\n",
        "  path = 'https://raw.githubusercontent.com/DiploDatos/AprendizajeSupervisado/master/Pr%C3%A1ctico/train.csv' # Este es del practico de la materia\n",
        "\n",
        "df = pd.read_csv(path)\n",
        "df"
      ]
    },
    {
      "cell_type": "code",
      "execution_count": null,
      "metadata": {
        "id": "xWXZbStgjrH3"
      },
      "outputs": [],
      "source": [
        "# Si estamos corriendo con una porcion menor de los datos, usamos el método train_test_split para tomar el 20%\n",
        "# de los datos y correr todo más rápido\n",
        "\n",
        "if modo == 'sample':\n",
        "  df_train, df_test = train_test_split(df, test_size=0.2) #stratify=df[['HomePlanet','CrioSleep','Cabin_Deck','Cabin_Num','Cabin_Side','Destination','Transported']]\n",
        "  df = df_test.copy()\n"
      ]
    },
    {
      "cell_type": "markdown",
      "metadata": {
        "id": "vrXeLt2-vtLX"
      },
      "source": [
        "### Descripción General"
      ]
    },
    {
      "cell_type": "code",
      "execution_count": null,
      "metadata": {
        "colab": {
          "base_uri": "https://localhost:8080/"
        },
        "id": "zeD7ROVfv5bi",
        "outputId": "c17f2422-6a6d-4225-f67e-ad12e981d6b1"
      },
      "outputs": [
        {
          "output_type": "execute_result",
          "data": {
            "text/plain": [
              "PassengerId       int64\n",
              "HomePlanet       object\n",
              "CryoSleep        object\n",
              "Cabin            object\n",
              "Destination      object\n",
              "Age             float64\n",
              "VIP              object\n",
              "RoomService     float64\n",
              "FoodCourt       float64\n",
              "ShoppingMall    float64\n",
              "Spa             float64\n",
              "VRDeck          float64\n",
              "Name             object\n",
              "Transported       int64\n",
              "dtype: object"
            ]
          },
          "metadata": {},
          "execution_count": 159
        }
      ],
      "source": [
        "# Tipo de Variables\n",
        "df.dtypes"
      ]
    },
    {
      "cell_type": "code",
      "source": [
        "df.isna().sum()"
      ],
      "metadata": {
        "colab": {
          "base_uri": "https://localhost:8080/"
        },
        "id": "EDV1741XQ9eo",
        "outputId": "531f4e3f-7102-409a-93ed-2175c637946d"
      },
      "execution_count": null,
      "outputs": [
        {
          "output_type": "execute_result",
          "data": {
            "text/plain": [
              "PassengerId       0\n",
              "HomePlanet      179\n",
              "CryoSleep       196\n",
              "Cabin           184\n",
              "Destination     160\n",
              "Age             162\n",
              "VIP             184\n",
              "RoomService     154\n",
              "FoodCourt       155\n",
              "ShoppingMall    188\n",
              "Spa             158\n",
              "VRDeck          169\n",
              "Name            184\n",
              "Transported       0\n",
              "dtype: int64"
            ]
          },
          "metadata": {},
          "execution_count": 160
        }
      ]
    },
    {
      "cell_type": "markdown",
      "source": [
        "Como puede observarse, hay una considerable cantidad de datos faltantes que habría que imputar antes de aplicar los modelos de regresión:"
      ],
      "metadata": {
        "id": "XFWhTJFd17uU"
      }
    },
    {
      "cell_type": "code",
      "execution_count": null,
      "metadata": {
        "colab": {
          "base_uri": "https://localhost:8080/",
          "height": 608
        },
        "id": "ec1IxeFcv5W4",
        "outputId": "0d1c65da-eee1-48e3-9079-be1ccc11979b"
      },
      "outputs": [
        {
          "output_type": "execute_result",
          "data": {
            "text/plain": [
              "<matplotlib.axes._subplots.AxesSubplot at 0x7f81c632c510>"
            ]
          },
          "metadata": {},
          "execution_count": 161
        },
        {
          "output_type": "display_data",
          "data": {
            "text/plain": [
              "<Figure size 1800x720 with 2 Axes>"
            ],
            "image/png": "[encoded data removed]"
          },
          "metadata": {
            "needs_background": "light"
          }
        }
      ],
      "source": [
        "matrix(df)"
      ]
    },
    {
      "cell_type": "markdown",
      "source": [
        "Por lo que puede observarse gráficamente, la pérdida parece ser aleatoria, con lo que aplicaremos diferentes métodos de imputación, con el fin de perder la menor cantidad posible de información."
      ],
      "metadata": {
        "id": "15jYdG5F2Fz-"
      }
    },
    {
      "cell_type": "code",
      "execution_count": null,
      "metadata": {
        "colab": {
          "base_uri": "https://localhost:8080/"
        },
        "id": "hN_NiQFqulFf",
        "outputId": "c34e3afe-d740-4c91-ff9b-c2056202bb9c"
      },
      "outputs": [
        {
          "output_type": "stream",
          "name": "stdout",
          "text": [
            "Cantidad de Variables Numéricas: 8\n",
            "Cantidad de Variables Categóricas: 6\n"
          ]
        }
      ],
      "source": [
        "num_df = df.select_dtypes(include=[np.number])\n",
        "cat_df = df.select_dtypes(exclude=[np.number])\n",
        "\n",
        "print(f'Cantidad de Variables Numéricas: {num_df.shape[1]}')\n",
        "print(f'Cantidad de Variables Categóricas: {cat_df.shape[1]}')"
      ]
    },
    {
      "cell_type": "markdown",
      "metadata": {
        "id": "q918OXAGcm4C"
      },
      "source": [
        "## Tratamiento de Variables"
      ]
    },
    {
      "cell_type": "code",
      "execution_count": null,
      "metadata": {
        "colab": {
          "base_uri": "https://localhost:8080/",
          "height": 661
        },
        "id": "vQ6OrdaOpTWq",
        "outputId": "0d9cdc68-c894-48c9-8c86-ba5c3f276aa7"
      },
      "outputs": [
        {
          "output_type": "execute_result",
          "data": {
            "text/plain": [
              "      PassengerId HomePlanet CryoSleep  Destination   Age    VIP  RoomService  \\\n",
              "0            3430     Europa     False  TRAPPIST-1e  57.0  False          0.0   \n",
              "1             669       Mars      True          NaN  18.0  False          0.0   \n",
              "2            8430     Europa      True  TRAPPIST-1e  33.0    NaN          0.0   \n",
              "3            6463      Earth     False  TRAPPIST-1e  43.0  False        142.0   \n",
              "4              85      Earth     False  TRAPPIST-1e  19.0  False          0.0   \n",
              "...           ...        ...       ...          ...   ...    ...          ...   \n",
              "7818         6528       Mars     False  TRAPPIST-1e  12.0    NaN          0.0   \n",
              "7819         2693      Earth     False  TRAPPIST-1e  44.0  False          0.0   \n",
              "7820         8076       Mars      True  TRAPPIST-1e  55.0  False          0.0   \n",
              "7821         3829      Earth     False  TRAPPIST-1e  15.0  False          0.0   \n",
              "7822         7624     Europa      True  55 Cancri e  45.0  False          0.0   \n",
              "\n",
              "      FoodCourt  ShoppingMall    Spa  VRDeck               Name  Transported  \\\n",
              "0        3859.0          13.0  195.0  3874.0     Azhah Tronsive            0   \n",
              "1           0.0           0.0    0.0     0.0         Roswal Sha            1   \n",
              "2           0.0           0.0    0.0     0.0  Shaiam Tinganking            1   \n",
              "3        1208.0           0.0    0.0   204.0     Landa Grifford            0   \n",
              "4           0.0         670.0    1.0    34.0     Gracy Dunnisey            0   \n",
              "...         ...           ...    ...     ...                ...          ...   \n",
              "7818        0.0           0.0    0.0     0.0        Risps Hacle            1   \n",
              "7819        0.0         744.0   62.0     3.0      Gabrie Reenez            0   \n",
              "7820        0.0           0.0    0.0     0.0       Panzel Ruity            1   \n",
              "7821      840.0         123.0    0.0    20.0    Belly Weavesend            0   \n",
              "7822        0.0           0.0    0.0     0.0  Graston Donotaked            1   \n",
              "\n",
              "     Cabin_Deck Cabin_Num Cabin_Side  \n",
              "0             C       123          P  \n",
              "1             F       126          S  \n",
              "2             B       343          S  \n",
              "3             F      1420          P  \n",
              "4             G         9          P  \n",
              "...         ...       ...        ...  \n",
              "7818          F      1319          S  \n",
              "7819          G       459          S  \n",
              "7820          F      1772          P  \n",
              "7821          E       253          P  \n",
              "7822          B       270          P  \n",
              "\n",
              "[7823 rows x 16 columns]"
            ],
            "text/html": [
              "\n",
              "  <div id=\"df-11083afa-0644-4ec8-8836-84917b00e8cc\">\n",
              "    <div class=\"colab-df-container\">\n",
              "      <div>\n",
              "<style scoped>\n",
              "    .dataframe tbody tr th:only-of-type {\n",
              "        vertical-align: middle;\n",
              "    }\n",
              "\n",
              "    .dataframe tbody tr th {\n",
              "        vertical-align: top;\n",
              "    }\n",
              "\n",
              "    .dataframe thead th {\n",
              "        text-align: right;\n",
              "    }\n",
              "</style>\n",
              "<table border=\"1\" class=\"dataframe\">\n",
              "  <thead>\n",
              "    <tr style=\"text-align: right;\">\n",
              "      <th></th>\n",
              "      <th>PassengerId</th>\n",
              "      <th>HomePlanet</th>\n",
              "      <th>CryoSleep</th>\n",
              "      <th>Destination</th>\n",
              "      <th>Age</th>\n",
              "      <th>VIP</th>\n",
              "      <th>RoomService</th>\n",
              "      <th>FoodCourt</th>\n",
              "      <th>ShoppingMall</th>\n",
              "      <th>Spa</th>\n",
              "      <th>VRDeck</th>\n",
              "      <th>Name</th>\n",
              "      <th>Transported</th>\n",
              "      <th>Cabin_Deck</th>\n",
              "      <th>Cabin_Num</th>\n",
              "      <th>Cabin_Side</th>\n",
              "    </tr>\n",
              "  </thead>\n",
              "  <tbody>\n",
              "    <tr>\n",
              "      <th>0</th>\n",
              "      <td>3430</td>\n",
              "      <td>Europa</td>\n",
              "      <td>False</td>\n",
              "      <td>TRAPPIST-1e</td>\n",
              "      <td>57.0</td>\n",
              "      <td>False</td>\n",
              "      <td>0.0</td>\n",
              "      <td>3859.0</td>\n",
              "      <td>13.0</td>\n",
              "      <td>195.0</td>\n",
              "      <td>3874.0</td>\n",
              "      <td>Azhah Tronsive</td>\n",
              "      <td>0</td>\n",
              "      <td>C</td>\n",
              "      <td>123</td>\n",
              "      <td>P</td>\n",
              "    </tr>\n",
              "    <tr>\n",
              "      <th>1</th>\n",
              "      <td>669</td>\n",
              "      <td>Mars</td>\n",
              "      <td>True</td>\n",
              "      <td>NaN</td>\n",
              "      <td>18.0</td>\n",
              "      <td>False</td>\n",
              "      <td>0.0</td>\n",
              "      <td>0.0</td>\n",
              "      <td>0.0</td>\n",
              "      <td>0.0</td>\n",
              "      <td>0.0</td>\n",
              "      <td>Roswal Sha</td>\n",
              "      <td>1</td>\n",
              "      <td>F</td>\n",
              "      <td>126</td>\n",
              "      <td>S</td>\n",
              "    </tr>\n",
              "    <tr>\n",
              "      <th>2</th>\n",
              "      <td>8430</td>\n",
              "      <td>Europa</td>\n",
              "      <td>True</td>\n",
              "      <td>TRAPPIST-1e</td>\n",
              "      <td>33.0</td>\n",
              "      <td>NaN</td>\n",
              "      <td>0.0</td>\n",
              "      <td>0.0</td>\n",
              "      <td>0.0</td>\n",
              "      <td>0.0</td>\n",
              "      <td>0.0</td>\n",
              "      <td>Shaiam Tinganking</td>\n",
              "      <td>1</td>\n",
              "      <td>B</td>\n",
              "      <td>343</td>\n",
              "      <td>S</td>\n",
              "    </tr>\n",
              "    <tr>\n",
              "      <th>3</th>\n",
              "      <td>6463</td>\n",
              "      <td>Earth</td>\n",
              "      <td>False</td>\n",
              "      <td>TRAPPIST-1e</td>\n",
              "      <td>43.0</td>\n",
              "      <td>False</td>\n",
              "      <td>142.0</td>\n",
              "      <td>1208.0</td>\n",
              "      <td>0.0</td>\n",
              "      <td>0.0</td>\n",
              "      <td>204.0</td>\n",
              "      <td>Landa Grifford</td>\n",
              "      <td>0</td>\n",
              "      <td>F</td>\n",
              "      <td>1420</td>\n",
              "      <td>P</td>\n",
              "    </tr>\n",
              "    <tr>\n",
              "      <th>4</th>\n",
              "      <td>85</td>\n",
              "      <td>Earth</td>\n",
              "      <td>False</td>\n",
              "      <td>TRAPPIST-1e</td>\n",
              "      <td>19.0</td>\n",
              "      <td>False</td>\n",
              "      <td>0.0</td>\n",
              "      <td>0.0</td>\n",
              "      <td>670.0</td>\n",
              "      <td>1.0</td>\n",
              "      <td>34.0</td>\n",
              "      <td>Gracy Dunnisey</td>\n",
              "      <td>0</td>\n",
              "      <td>G</td>\n",
              "      <td>9</td>\n",
              "      <td>P</td>\n",
              "    </tr>\n",
              "    <tr>\n",
              "      <th>...</th>\n",
              "      <td>...</td>\n",
              "      <td>...</td>\n",
              "      <td>...</td>\n",
              "      <td>...</td>\n",
              "      <td>...</td>\n",
              "      <td>...</td>\n",
              "      <td>...</td>\n",
              "      <td>...</td>\n",
              "      <td>...</td>\n",
              "      <td>...</td>\n",
              "      <td>...</td>\n",
              "      <td>...</td>\n",
              "      <td>...</td>\n",
              "      <td>...</td>\n",
              "      <td>...</td>\n",
              "      <td>...</td>\n",
              "    </tr>\n",
              "    <tr>\n",
              "      <th>7818</th>\n",
              "      <td>6528</td>\n",
              "      <td>Mars</td>\n",
              "      <td>False</td>\n",
              "      <td>TRAPPIST-1e</td>\n",
              "      <td>12.0</td>\n",
              "      <td>NaN</td>\n",
              "      <td>0.0</td>\n",
              "      <td>0.0</td>\n",
              "      <td>0.0</td>\n",
              "      <td>0.0</td>\n",
              "      <td>0.0</td>\n",
              "      <td>Risps Hacle</td>\n",
              "      <td>1</td>\n",
              "      <td>F</td>\n",
              "      <td>1319</td>\n",
              "      <td>S</td>\n",
              "    </tr>\n",
              "    <tr>\n",
              "      <th>7819</th>\n",
              "      <td>2693</td>\n",
              "      <td>Earth</td>\n",
              "      <td>False</td>\n",
              "      <td>TRAPPIST-1e</td>\n",
              "      <td>44.0</td>\n",
              "      <td>False</td>\n",
              "      <td>0.0</td>\n",
              "      <td>0.0</td>\n",
              "      <td>744.0</td>\n",
              "      <td>62.0</td>\n",
              "      <td>3.0</td>\n",
              "      <td>Gabrie Reenez</td>\n",
              "      <td>0</td>\n",
              "      <td>G</td>\n",
              "      <td>459</td>\n",
              "      <td>S</td>\n",
              "    </tr>\n",
              "    <tr>\n",
              "      <th>7820</th>\n",
              "      <td>8076</td>\n",
              "      <td>Mars</td>\n",
              "      <td>True</td>\n",
              "      <td>TRAPPIST-1e</td>\n",
              "      <td>55.0</td>\n",
              "      <td>False</td>\n",
              "      <td>0.0</td>\n",
              "      <td>0.0</td>\n",
              "      <td>0.0</td>\n",
              "      <td>0.0</td>\n",
              "      <td>0.0</td>\n",
              "      <td>Panzel Ruity</td>\n",
              "      <td>1</td>\n",
              "      <td>F</td>\n",
              "      <td>1772</td>\n",
              "      <td>P</td>\n",
              "    </tr>\n",
              "    <tr>\n",
              "      <th>7821</th>\n",
              "      <td>3829</td>\n",
              "      <td>Earth</td>\n",
              "      <td>False</td>\n",
              "      <td>TRAPPIST-1e</td>\n",
              "      <td>15.0</td>\n",
              "      <td>False</td>\n",
              "      <td>0.0</td>\n",
              "      <td>840.0</td>\n",
              "      <td>123.0</td>\n",
              "      <td>0.0</td>\n",
              "      <td>20.0</td>\n",
              "      <td>Belly Weavesend</td>\n",
              "      <td>0</td>\n",
              "      <td>E</td>\n",
              "      <td>253</td>\n",
              "      <td>P</td>\n",
              "    </tr>\n",
              "    <tr>\n",
              "      <th>7822</th>\n",
              "      <td>7624</td>\n",
              "      <td>Europa</td>\n",
              "      <td>True</td>\n",
              "      <td>55 Cancri e</td>\n",
              "      <td>45.0</td>\n",
              "      <td>False</td>\n",
              "      <td>0.0</td>\n",
              "      <td>0.0</td>\n",
              "      <td>0.0</td>\n",
              "      <td>0.0</td>\n",
              "      <td>0.0</td>\n",
              "      <td>Graston Donotaked</td>\n",
              "      <td>1</td>\n",
              "      <td>B</td>\n",
              "      <td>270</td>\n",
              "      <td>P</td>\n",
              "    </tr>\n",
              "  </tbody>\n",
              "</table>\n",
              "<p>7823 rows × 16 columns</p>\n",
              "</div>\n",
              "      <button class=\"colab-df-convert\" onclick=\"convertToInteractive('df-11083afa-0644-4ec8-8836-84917b00e8cc')\"\n",
              "              title=\"Convert this dataframe to an interactive table.\"\n",
              "              style=\"display:none;\">\n",
              "        \n",
              "  <svg xmlns=\"http://www.w3.org/2000/svg\" height=\"24px\"viewBox=\"0 0 24 24\"\n",
              "       width=\"24px\">\n",
              "    <path d=\"M0 0h24v24H0V0z\" fill=\"none\"/>\n",
              "    <path d=\"M18.56 5.44l.94 2.06.94-2.06 2.06-.94-2.06-.94-.94-2.06-.94 2.06-2.06.94zm-11 1L8.5 8.5l.94-2.06 2.06-.94-2.06-.94L8.5 2.5l-.94 2.06-2.06.94zm10 10l.94 2.06.94-2.06 2.06-.94-2.06-.94-.94-2.06-.94 2.06-2.06.94z\"/><path d=\"M17.41 7.96l-1.37-1.37c-.4-.4-.92-.59-1.43-.59-.52 0-1.04.2-1.43.59L10.3 9.45l-7.72 7.72c-.78.78-.78 2.05 0 2.83L4 21.41c.39.39.9.59 1.41.59.51 0 1.02-.2 1.41-.59l7.78-7.78 2.81-2.81c.8-.78.8-2.07 0-2.86zM5.41 20L4 18.59l7.72-7.72 1.47 1.35L5.41 20z\"/>\n",
              "  </svg>\n",
              "      </button>\n",
              "      \n",
              "  <style>\n",
              "    .colab-df-container {\n",
              "      display:flex;\n",
              "      flex-wrap:wrap;\n",
              "      gap: 12px;\n",
              "    }\n",
              "\n",
              "    .colab-df-convert {\n",
              "      background-color: #E8F0FE;\n",
              "      border: none;\n",
              "      border-radius: 50%;\n",
              "      cursor: pointer;\n",
              "      display: none;\n",
              "      fill: #1967D2;\n",
              "      height: 32px;\n",
              "      padding: 0 0 0 0;\n",
              "      width: 32px;\n",
              "    }\n",
              "\n",
              "    .colab-df-convert:hover {\n",
              "      background-color: #E2EBFA;\n",
              "      box-shadow: 0px 1px 2px rgba(60, 64, 67, 0.3), 0px 1px 3px 1px rgba(60, 64, 67, 0.15);\n",
              "      fill: #174EA6;\n",
              "    }\n",
              "\n",
              "    [theme=dark] .colab-df-convert {\n",
              "      background-color: #3B4455;\n",
              "      fill: #D2E3FC;\n",
              "    }\n",
              "\n",
              "    [theme=dark] .colab-df-convert:hover {\n",
              "      background-color: #434B5C;\n",
              "      box-shadow: 0px 1px 3px 1px rgba(0, 0, 0, 0.15);\n",
              "      filter: drop-shadow(0px 1px 2px rgba(0, 0, 0, 0.3));\n",
              "      fill: #FFFFFF;\n",
              "    }\n",
              "  </style>\n",
              "\n",
              "      <script>\n",
              "        const buttonEl =\n",
              "          document.querySelector('#df-11083afa-0644-4ec8-8836-84917b00e8cc button.colab-df-convert');\n",
              "        buttonEl.style.display =\n",
              "          google.colab.kernel.accessAllowed ? 'block' : 'none';\n",
              "\n",
              "        async function convertToInteractive(key) {\n",
              "          const element = document.querySelector('#df-11083afa-0644-4ec8-8836-84917b00e8cc');\n",
              "          const dataTable =\n",
              "            await google.colab.kernel.invokeFunction('convertToInteractive',\n",
              "                                                     [key], {});\n",
              "          if (!dataTable) return;\n",
              "\n",
              "          const docLinkHtml = 'Like what you see? Visit the ' +\n",
              "            '<a target=\"_blank\" href=https://colab.research.google.com/notebooks/data_table.ipynb>data table notebook</a>'\n",
              "            + ' to learn more about interactive tables.';\n",
              "          element.innerHTML = '';\n",
              "          dataTable['output_type'] = 'display_data';\n",
              "          await google.colab.output.renderOutput(dataTable, element);\n",
              "          const docLink = document.createElement('div');\n",
              "          docLink.innerHTML = docLinkHtml;\n",
              "          element.appendChild(docLink);\n",
              "        }\n",
              "      </script>\n",
              "    </div>\n",
              "  </div>\n",
              "  "
            ]
          },
          "metadata": {},
          "execution_count": 163
        }
      ],
      "source": [
        "# Splitteamos la variable Cabin para poder trabajar con sus tres componentes separadamente\n",
        "df[['Cabin_Deck','Cabin_Num','Cabin_Side']] = df.Cabin.str.split('/', expand=True)\n",
        "\n",
        "# Se elimina la variable original\n",
        "df.drop('Cabin', axis=1, inplace=True) \n",
        "df"
      ]
    },
    {
      "cell_type": "code",
      "execution_count": null,
      "metadata": {
        "colab": {
          "base_uri": "https://localhost:8080/",
          "height": 626
        },
        "id": "M2NG30L8wOLK",
        "outputId": "764dbf7b-cfd8-4010-9b55-d5eaf9879ba6"
      },
      "outputs": [
        {
          "output_type": "execute_result",
          "data": {
            "text/plain": [
              "      PassengerId HomePlanet CryoSleep  Destination   Age    VIP  RoomService  \\\n",
              "0            3430     Europa     False  TRAPPIST-1e  57.0  False          0.0   \n",
              "1             669       Mars      True          NaN  18.0  False          0.0   \n",
              "2            8430     Europa      True  TRAPPIST-1e  33.0    NaN          0.0   \n",
              "3            6463      Earth     False  TRAPPIST-1e  43.0  False        142.0   \n",
              "4              85      Earth     False  TRAPPIST-1e  19.0  False          0.0   \n",
              "...           ...        ...       ...          ...   ...    ...          ...   \n",
              "7818         6528       Mars     False  TRAPPIST-1e  12.0    NaN          0.0   \n",
              "7819         2693      Earth     False  TRAPPIST-1e  44.0  False          0.0   \n",
              "7820         8076       Mars      True  TRAPPIST-1e  55.0  False          0.0   \n",
              "7821         3829      Earth     False  TRAPPIST-1e  15.0  False          0.0   \n",
              "7822         7624     Europa      True  55 Cancri e  45.0  False          0.0   \n",
              "\n",
              "      FoodCourt  ShoppingMall    Spa  VRDeck  Transported Cabin_Deck  \\\n",
              "0        3859.0          13.0  195.0  3874.0            0          C   \n",
              "1           0.0           0.0    0.0     0.0            1          F   \n",
              "2           0.0           0.0    0.0     0.0            1          B   \n",
              "3        1208.0           0.0    0.0   204.0            0          F   \n",
              "4           0.0         670.0    1.0    34.0            0          G   \n",
              "...         ...           ...    ...     ...          ...        ...   \n",
              "7818        0.0           0.0    0.0     0.0            1          F   \n",
              "7819        0.0         744.0   62.0     3.0            0          G   \n",
              "7820        0.0           0.0    0.0     0.0            1          F   \n",
              "7821      840.0         123.0    0.0    20.0            0          E   \n",
              "7822        0.0           0.0    0.0     0.0            1          B   \n",
              "\n",
              "     Cabin_Num Cabin_Side   Last_Name  \n",
              "0          123          P    Tronsive  \n",
              "1          126          S         Sha  \n",
              "2          343          S  Tinganking  \n",
              "3         1420          P    Grifford  \n",
              "4            9          P    Dunnisey  \n",
              "...        ...        ...         ...  \n",
              "7818      1319          S       Hacle  \n",
              "7819       459          S      Reenez  \n",
              "7820      1772          P       Ruity  \n",
              "7821       253          P   Weavesend  \n",
              "7822       270          P   Donotaked  \n",
              "\n",
              "[7823 rows x 16 columns]"
            ],
            "text/html": [
              "\n",
              "  <div id=\"df-cc28c5ca-69b0-44f5-823d-afcb85edd18c\">\n",
              "    <div class=\"colab-df-container\">\n",
              "      <div>\n",
              "<style scoped>\n",
              "    .dataframe tbody tr th:only-of-type {\n",
              "        vertical-align: middle;\n",
              "    }\n",
              "\n",
              "    .dataframe tbody tr th {\n",
              "        vertical-align: top;\n",
              "    }\n",
              "\n",
              "    .dataframe thead th {\n",
              "        text-align: right;\n",
              "    }\n",
              "</style>\n",
              "<table border=\"1\" class=\"dataframe\">\n",
              "  <thead>\n",
              "    <tr style=\"text-align: right;\">\n",
              "      <th></th>\n",
              "      <th>PassengerId</th>\n",
              "      <th>HomePlanet</th>\n",
              "      <th>CryoSleep</th>\n",
              "      <th>Destination</th>\n",
              "      <th>Age</th>\n",
              "      <th>VIP</th>\n",
              "      <th>RoomService</th>\n",
              "      <th>FoodCourt</th>\n",
              "      <th>ShoppingMall</th>\n",
              "      <th>Spa</th>\n",
              "      <th>VRDeck</th>\n",
              "      <th>Transported</th>\n",
              "      <th>Cabin_Deck</th>\n",
              "      <th>Cabin_Num</th>\n",
              "      <th>Cabin_Side</th>\n",
              "      <th>Last_Name</th>\n",
              "    </tr>\n",
              "  </thead>\n",
              "  <tbody>\n",
              "    <tr>\n",
              "      <th>0</th>\n",
              "      <td>3430</td>\n",
              "      <td>Europa</td>\n",
              "      <td>False</td>\n",
              "      <td>TRAPPIST-1e</td>\n",
              "      <td>57.0</td>\n",
              "      <td>False</td>\n",
              "      <td>0.0</td>\n",
              "      <td>3859.0</td>\n",
              "      <td>13.0</td>\n",
              "      <td>195.0</td>\n",
              "      <td>3874.0</td>\n",
              "      <td>0</td>\n",
              "      <td>C</td>\n",
              "      <td>123</td>\n",
              "      <td>P</td>\n",
              "      <td>Tronsive</td>\n",
              "    </tr>\n",
              "    <tr>\n",
              "      <th>1</th>\n",
              "      <td>669</td>\n",
              "      <td>Mars</td>\n",
              "      <td>True</td>\n",
              "      <td>NaN</td>\n",
              "      <td>18.0</td>\n",
              "      <td>False</td>\n",
              "      <td>0.0</td>\n",
              "      <td>0.0</td>\n",
              "      <td>0.0</td>\n",
              "      <td>0.0</td>\n",
              "      <td>0.0</td>\n",
              "      <td>1</td>\n",
              "      <td>F</td>\n",
              "      <td>126</td>\n",
              "      <td>S</td>\n",
              "      <td>Sha</td>\n",
              "    </tr>\n",
              "    <tr>\n",
              "      <th>2</th>\n",
              "      <td>8430</td>\n",
              "      <td>Europa</td>\n",
              "      <td>True</td>\n",
              "      <td>TRAPPIST-1e</td>\n",
              "      <td>33.0</td>\n",
              "      <td>NaN</td>\n",
              "      <td>0.0</td>\n",
              "      <td>0.0</td>\n",
              "      <td>0.0</td>\n",
              "      <td>0.0</td>\n",
              "      <td>0.0</td>\n",
              "      <td>1</td>\n",
              "      <td>B</td>\n",
              "      <td>343</td>\n",
              "      <td>S</td>\n",
              "      <td>Tinganking</td>\n",
              "    </tr>\n",
              "    <tr>\n",
              "      <th>3</th>\n",
              "      <td>6463</td>\n",
              "      <td>Earth</td>\n",
              "      <td>False</td>\n",
              "      <td>TRAPPIST-1e</td>\n",
              "      <td>43.0</td>\n",
              "      <td>False</td>\n",
              "      <td>142.0</td>\n",
              "      <td>1208.0</td>\n",
              "      <td>0.0</td>\n",
              "      <td>0.0</td>\n",
              "      <td>204.0</td>\n",
              "      <td>0</td>\n",
              "      <td>F</td>\n",
              "      <td>1420</td>\n",
              "      <td>P</td>\n",
              "      <td>Grifford</td>\n",
              "    </tr>\n",
              "    <tr>\n",
              "      <th>4</th>\n",
              "      <td>85</td>\n",
              "      <td>Earth</td>\n",
              "      <td>False</td>\n",
              "      <td>TRAPPIST-1e</td>\n",
              "      <td>19.0</td>\n",
              "      <td>False</td>\n",
              "      <td>0.0</td>\n",
              "      <td>0.0</td>\n",
              "      <td>670.0</td>\n",
              "      <td>1.0</td>\n",
              "      <td>34.0</td>\n",
              "      <td>0</td>\n",
              "      <td>G</td>\n",
              "      <td>9</td>\n",
              "      <td>P</td>\n",
              "      <td>Dunnisey</td>\n",
              "    </tr>\n",
              "    <tr>\n",
              "      <th>...</th>\n",
              "      <td>...</td>\n",
              "      <td>...</td>\n",
              "      <td>...</td>\n",
              "      <td>...</td>\n",
              "      <td>...</td>\n",
              "      <td>...</td>\n",
              "      <td>...</td>\n",
              "      <td>...</td>\n",
              "      <td>...</td>\n",
              "      <td>...</td>\n",
              "      <td>...</td>\n",
              "      <td>...</td>\n",
              "      <td>...</td>\n",
              "      <td>...</td>\n",
              "      <td>...</td>\n",
              "      <td>...</td>\n",
              "    </tr>\n",
              "    <tr>\n",
              "      <th>7818</th>\n",
              "      <td>6528</td>\n",
              "      <td>Mars</td>\n",
              "      <td>False</td>\n",
              "      <td>TRAPPIST-1e</td>\n",
              "      <td>12.0</td>\n",
              "      <td>NaN</td>\n",
              "      <td>0.0</td>\n",
              "      <td>0.0</td>\n",
              "      <td>0.0</td>\n",
              "      <td>0.0</td>\n",
              "      <td>0.0</td>\n",
              "      <td>1</td>\n",
              "      <td>F</td>\n",
              "      <td>1319</td>\n",
              "      <td>S</td>\n",
              "      <td>Hacle</td>\n",
              "    </tr>\n",
              "    <tr>\n",
              "      <th>7819</th>\n",
              "      <td>2693</td>\n",
              "      <td>Earth</td>\n",
              "      <td>False</td>\n",
              "      <td>TRAPPIST-1e</td>\n",
              "      <td>44.0</td>\n",
              "      <td>False</td>\n",
              "      <td>0.0</td>\n",
              "      <td>0.0</td>\n",
              "      <td>744.0</td>\n",
              "      <td>62.0</td>\n",
              "      <td>3.0</td>\n",
              "      <td>0</td>\n",
              "      <td>G</td>\n",
              "      <td>459</td>\n",
              "      <td>S</td>\n",
              "      <td>Reenez</td>\n",
              "    </tr>\n",
              "    <tr>\n",
              "      <th>7820</th>\n",
              "      <td>8076</td>\n",
              "      <td>Mars</td>\n",
              "      <td>True</td>\n",
              "      <td>TRAPPIST-1e</td>\n",
              "      <td>55.0</td>\n",
              "      <td>False</td>\n",
              "      <td>0.0</td>\n",
              "      <td>0.0</td>\n",
              "      <td>0.0</td>\n",
              "      <td>0.0</td>\n",
              "      <td>0.0</td>\n",
              "      <td>1</td>\n",
              "      <td>F</td>\n",
              "      <td>1772</td>\n",
              "      <td>P</td>\n",
              "      <td>Ruity</td>\n",
              "    </tr>\n",
              "    <tr>\n",
              "      <th>7821</th>\n",
              "      <td>3829</td>\n",
              "      <td>Earth</td>\n",
              "      <td>False</td>\n",
              "      <td>TRAPPIST-1e</td>\n",
              "      <td>15.0</td>\n",
              "      <td>False</td>\n",
              "      <td>0.0</td>\n",
              "      <td>840.0</td>\n",
              "      <td>123.0</td>\n",
              "      <td>0.0</td>\n",
              "      <td>20.0</td>\n",
              "      <td>0</td>\n",
              "      <td>E</td>\n",
              "      <td>253</td>\n",
              "      <td>P</td>\n",
              "      <td>Weavesend</td>\n",
              "    </tr>\n",
              "    <tr>\n",
              "      <th>7822</th>\n",
              "      <td>7624</td>\n",
              "      <td>Europa</td>\n",
              "      <td>True</td>\n",
              "      <td>55 Cancri e</td>\n",
              "      <td>45.0</td>\n",
              "      <td>False</td>\n",
              "      <td>0.0</td>\n",
              "      <td>0.0</td>\n",
              "      <td>0.0</td>\n",
              "      <td>0.0</td>\n",
              "      <td>0.0</td>\n",
              "      <td>1</td>\n",
              "      <td>B</td>\n",
              "      <td>270</td>\n",
              "      <td>P</td>\n",
              "      <td>Donotaked</td>\n",
              "    </tr>\n",
              "  </tbody>\n",
              "</table>\n",
              "<p>7823 rows × 16 columns</p>\n",
              "</div>\n",
              "      <button class=\"colab-df-convert\" onclick=\"convertToInteractive('df-cc28c5ca-69b0-44f5-823d-afcb85edd18c')\"\n",
              "              title=\"Convert this dataframe to an interactive table.\"\n",
              "              style=\"display:none;\">\n",
              "        \n",
              "  <svg xmlns=\"http://www.w3.org/2000/svg\" height=\"24px\"viewBox=\"0 0 24 24\"\n",
              "       width=\"24px\">\n",
              "    <path d=\"M0 0h24v24H0V0z\" fill=\"none\"/>\n",
              "    <path d=\"M18.56 5.44l.94 2.06.94-2.06 2.06-.94-2.06-.94-.94-2.06-.94 2.06-2.06.94zm-11 1L8.5 8.5l.94-2.06 2.06-.94-2.06-.94L8.5 2.5l-.94 2.06-2.06.94zm10 10l.94 2.06.94-2.06 2.06-.94-2.06-.94-.94-2.06-.94 2.06-2.06.94z\"/><path d=\"M17.41 7.96l-1.37-1.37c-.4-.4-.92-.59-1.43-.59-.52 0-1.04.2-1.43.59L10.3 9.45l-7.72 7.72c-.78.78-.78 2.05 0 2.83L4 21.41c.39.39.9.59 1.41.59.51 0 1.02-.2 1.41-.59l7.78-7.78 2.81-2.81c.8-.78.8-2.07 0-2.86zM5.41 20L4 18.59l7.72-7.72 1.47 1.35L5.41 20z\"/>\n",
              "  </svg>\n",
              "      </button>\n",
              "      \n",
              "  <style>\n",
              "    .colab-df-container {\n",
              "      display:flex;\n",
              "      flex-wrap:wrap;\n",
              "      gap: 12px;\n",
              "    }\n",
              "\n",
              "    .colab-df-convert {\n",
              "      background-color: #E8F0FE;\n",
              "      border: none;\n",
              "      border-radius: 50%;\n",
              "      cursor: pointer;\n",
              "      display: none;\n",
              "      fill: #1967D2;\n",
              "      height: 32px;\n",
              "      padding: 0 0 0 0;\n",
              "      width: 32px;\n",
              "    }\n",
              "\n",
              "    .colab-df-convert:hover {\n",
              "      background-color: #E2EBFA;\n",
              "      box-shadow: 0px 1px 2px rgba(60, 64, 67, 0.3), 0px 1px 3px 1px rgba(60, 64, 67, 0.15);\n",
              "      fill: #174EA6;\n",
              "    }\n",
              "\n",
              "    [theme=dark] .colab-df-convert {\n",
              "      background-color: #3B4455;\n",
              "      fill: #D2E3FC;\n",
              "    }\n",
              "\n",
              "    [theme=dark] .colab-df-convert:hover {\n",
              "      background-color: #434B5C;\n",
              "      box-shadow: 0px 1px 3px 1px rgba(0, 0, 0, 0.15);\n",
              "      filter: drop-shadow(0px 1px 2px rgba(0, 0, 0, 0.3));\n",
              "      fill: #FFFFFF;\n",
              "    }\n",
              "  </style>\n",
              "\n",
              "      <script>\n",
              "        const buttonEl =\n",
              "          document.querySelector('#df-cc28c5ca-69b0-44f5-823d-afcb85edd18c button.colab-df-convert');\n",
              "        buttonEl.style.display =\n",
              "          google.colab.kernel.accessAllowed ? 'block' : 'none';\n",
              "\n",
              "        async function convertToInteractive(key) {\n",
              "          const element = document.querySelector('#df-cc28c5ca-69b0-44f5-823d-afcb85edd18c');\n",
              "          const dataTable =\n",
              "            await google.colab.kernel.invokeFunction('convertToInteractive',\n",
              "                                                     [key], {});\n",
              "          if (!dataTable) return;\n",
              "\n",
              "          const docLinkHtml = 'Like what you see? Visit the ' +\n",
              "            '<a target=\"_blank\" href=https://colab.research.google.com/notebooks/data_table.ipynb>data table notebook</a>'\n",
              "            + ' to learn more about interactive tables.';\n",
              "          element.innerHTML = '';\n",
              "          dataTable['output_type'] = 'display_data';\n",
              "          await google.colab.output.renderOutput(dataTable, element);\n",
              "          const docLink = document.createElement('div');\n",
              "          docLink.innerHTML = docLinkHtml;\n",
              "          element.appendChild(docLink);\n",
              "        }\n",
              "      </script>\n",
              "    </div>\n",
              "  </div>\n",
              "  "
            ]
          },
          "metadata": {},
          "execution_count": 164
        }
      ],
      "source": [
        "# Splitteamos también el nombre del apellido\n",
        "df[['First_Name','Last_Name']] = df.Name.str.split(expand=True)\n",
        "\n",
        "# Se elimina la variable original y el nombre de pila (First_Name)\n",
        "df.drop(['Name','First_Name'], axis=1, inplace=True)\n",
        "df"
      ]
    },
    {
      "cell_type": "code",
      "execution_count": null,
      "metadata": {
        "colab": {
          "base_uri": "https://localhost:8080/",
          "height": 468
        },
        "id": "LxE6lfQ9fcdV",
        "outputId": "77fb71e1-4a7b-46f5-b4e7-350ce7b75b80"
      },
      "outputs": [
        {
          "output_type": "execute_result",
          "data": {
            "text/plain": [
              "     HomePlanet CryoSleep  Destination   Age    VIP  RoomService  FoodCourt  \\\n",
              "0        Europa     False  TRAPPIST-1e  57.0  False          0.0     3859.0   \n",
              "1          Mars      True          NaN  18.0  False          0.0        0.0   \n",
              "2        Europa      True  TRAPPIST-1e  33.0    NaN          0.0        0.0   \n",
              "3         Earth     False  TRAPPIST-1e  43.0  False        142.0     1208.0   \n",
              "4         Earth     False  TRAPPIST-1e  19.0  False          0.0        0.0   \n",
              "...         ...       ...          ...   ...    ...          ...        ...   \n",
              "7818       Mars     False  TRAPPIST-1e  12.0    NaN          0.0        0.0   \n",
              "7819      Earth     False  TRAPPIST-1e  44.0  False          0.0        0.0   \n",
              "7820       Mars      True  TRAPPIST-1e  55.0  False          0.0        0.0   \n",
              "7821      Earth     False  TRAPPIST-1e  15.0  False          0.0      840.0   \n",
              "7822     Europa      True  55 Cancri e  45.0  False          0.0        0.0   \n",
              "\n",
              "      ShoppingMall    Spa  VRDeck  Transported Cabin_Deck Cabin_Num  \\\n",
              "0             13.0  195.0  3874.0            0          C       123   \n",
              "1              0.0    0.0     0.0            1          F       126   \n",
              "2              0.0    0.0     0.0            1          B       343   \n",
              "3              0.0    0.0   204.0            0          F      1420   \n",
              "4            670.0    1.0    34.0            0          G         9   \n",
              "...            ...    ...     ...          ...        ...       ...   \n",
              "7818           0.0    0.0     0.0            1          F      1319   \n",
              "7819         744.0   62.0     3.0            0          G       459   \n",
              "7820           0.0    0.0     0.0            1          F      1772   \n",
              "7821         123.0    0.0    20.0            0          E       253   \n",
              "7822           0.0    0.0     0.0            1          B       270   \n",
              "\n",
              "     Cabin_Side   Last_Name  \n",
              "0             P    Tronsive  \n",
              "1             S         Sha  \n",
              "2             S  Tinganking  \n",
              "3             P    Grifford  \n",
              "4             P    Dunnisey  \n",
              "...         ...         ...  \n",
              "7818          S       Hacle  \n",
              "7819          S      Reenez  \n",
              "7820          P       Ruity  \n",
              "7821          P   Weavesend  \n",
              "7822          P   Donotaked  \n",
              "\n",
              "[7823 rows x 15 columns]"
            ],
            "text/html": [
              "\n",
              "  <div id=\"df-73660f4b-44c1-421c-b0a6-af311f17c75d\">\n",
              "    <div class=\"colab-df-container\">\n",
              "      <div>\n",
              "<style scoped>\n",
              "    .dataframe tbody tr th:only-of-type {\n",
              "        vertical-align: middle;\n",
              "    }\n",
              "\n",
              "    .dataframe tbody tr th {\n",
              "        vertical-align: top;\n",
              "    }\n",
              "\n",
              "    .dataframe thead th {\n",
              "        text-align: right;\n",
              "    }\n",
              "</style>\n",
              "<table border=\"1\" class=\"dataframe\">\n",
              "  <thead>\n",
              "    <tr style=\"text-align: right;\">\n",
              "      <th></th>\n",
              "      <th>HomePlanet</th>\n",
              "      <th>CryoSleep</th>\n",
              "      <th>Destination</th>\n",
              "      <th>Age</th>\n",
              "      <th>VIP</th>\n",
              "      <th>RoomService</th>\n",
              "      <th>FoodCourt</th>\n",
              "      <th>ShoppingMall</th>\n",
              "      <th>Spa</th>\n",
              "      <th>VRDeck</th>\n",
              "      <th>Transported</th>\n",
              "      <th>Cabin_Deck</th>\n",
              "      <th>Cabin_Num</th>\n",
              "      <th>Cabin_Side</th>\n",
              "      <th>Last_Name</th>\n",
              "    </tr>\n",
              "  </thead>\n",
              "  <tbody>\n",
              "    <tr>\n",
              "      <th>0</th>\n",
              "      <td>Europa</td>\n",
              "      <td>False</td>\n",
              "      <td>TRAPPIST-1e</td>\n",
              "      <td>57.0</td>\n",
              "      <td>False</td>\n",
              "      <td>0.0</td>\n",
              "      <td>3859.0</td>\n",
              "      <td>13.0</td>\n",
              "      <td>195.0</td>\n",
              "      <td>3874.0</td>\n",
              "      <td>0</td>\n",
              "      <td>C</td>\n",
              "      <td>123</td>\n",
              "      <td>P</td>\n",
              "      <td>Tronsive</td>\n",
              "    </tr>\n",
              "    <tr>\n",
              "      <th>1</th>\n",
              "      <td>Mars</td>\n",
              "      <td>True</td>\n",
              "      <td>NaN</td>\n",
              "      <td>18.0</td>\n",
              "      <td>False</td>\n",
              "      <td>0.0</td>\n",
              "      <td>0.0</td>\n",
              "      <td>0.0</td>\n",
              "      <td>0.0</td>\n",
              "      <td>0.0</td>\n",
              "      <td>1</td>\n",
              "      <td>F</td>\n",
              "      <td>126</td>\n",
              "      <td>S</td>\n",
              "      <td>Sha</td>\n",
              "    </tr>\n",
              "    <tr>\n",
              "      <th>2</th>\n",
              "      <td>Europa</td>\n",
              "      <td>True</td>\n",
              "      <td>TRAPPIST-1e</td>\n",
              "      <td>33.0</td>\n",
              "      <td>NaN</td>\n",
              "      <td>0.0</td>\n",
              "      <td>0.0</td>\n",
              "      <td>0.0</td>\n",
              "      <td>0.0</td>\n",
              "      <td>0.0</td>\n",
              "      <td>1</td>\n",
              "      <td>B</td>\n",
              "      <td>343</td>\n",
              "      <td>S</td>\n",
              "      <td>Tinganking</td>\n",
              "    </tr>\n",
              "    <tr>\n",
              "      <th>3</th>\n",
              "      <td>Earth</td>\n",
              "      <td>False</td>\n",
              "      <td>TRAPPIST-1e</td>\n",
              "      <td>43.0</td>\n",
              "      <td>False</td>\n",
              "      <td>142.0</td>\n",
              "      <td>1208.0</td>\n",
              "      <td>0.0</td>\n",
              "      <td>0.0</td>\n",
              "      <td>204.0</td>\n",
              "      <td>0</td>\n",
              "      <td>F</td>\n",
              "      <td>1420</td>\n",
              "      <td>P</td>\n",
              "      <td>Grifford</td>\n",
              "    </tr>\n",
              "    <tr>\n",
              "      <th>4</th>\n",
              "      <td>Earth</td>\n",
              "      <td>False</td>\n",
              "      <td>TRAPPIST-1e</td>\n",
              "      <td>19.0</td>\n",
              "      <td>False</td>\n",
              "      <td>0.0</td>\n",
              "      <td>0.0</td>\n",
              "      <td>670.0</td>\n",
              "      <td>1.0</td>\n",
              "      <td>34.0</td>\n",
              "      <td>0</td>\n",
              "      <td>G</td>\n",
              "      <td>9</td>\n",
              "      <td>P</td>\n",
              "      <td>Dunnisey</td>\n",
              "    </tr>\n",
              "    <tr>\n",
              "      <th>...</th>\n",
              "      <td>...</td>\n",
              "      <td>...</td>\n",
              "      <td>...</td>\n",
              "      <td>...</td>\n",
              "      <td>...</td>\n",
              "      <td>...</td>\n",
              "      <td>...</td>\n",
              "      <td>...</td>\n",
              "      <td>...</td>\n",
              "      <td>...</td>\n",
              "      <td>...</td>\n",
              "      <td>...</td>\n",
              "      <td>...</td>\n",
              "      <td>...</td>\n",
              "      <td>...</td>\n",
              "    </tr>\n",
              "    <tr>\n",
              "      <th>7818</th>\n",
              "      <td>Mars</td>\n",
              "      <td>False</td>\n",
              "      <td>TRAPPIST-1e</td>\n",
              "      <td>12.0</td>\n",
              "      <td>NaN</td>\n",
              "      <td>0.0</td>\n",
              "      <td>0.0</td>\n",
              "      <td>0.0</td>\n",
              "      <td>0.0</td>\n",
              "      <td>0.0</td>\n",
              "      <td>1</td>\n",
              "      <td>F</td>\n",
              "      <td>1319</td>\n",
              "      <td>S</td>\n",
              "      <td>Hacle</td>\n",
              "    </tr>\n",
              "    <tr>\n",
              "      <th>7819</th>\n",
              "      <td>Earth</td>\n",
              "      <td>False</td>\n",
              "      <td>TRAPPIST-1e</td>\n",
              "      <td>44.0</td>\n",
              "      <td>False</td>\n",
              "      <td>0.0</td>\n",
              "      <td>0.0</td>\n",
              "      <td>744.0</td>\n",
              "      <td>62.0</td>\n",
              "      <td>3.0</td>\n",
              "      <td>0</td>\n",
              "      <td>G</td>\n",
              "      <td>459</td>\n",
              "      <td>S</td>\n",
              "      <td>Reenez</td>\n",
              "    </tr>\n",
              "    <tr>\n",
              "      <th>7820</th>\n",
              "      <td>Mars</td>\n",
              "      <td>True</td>\n",
              "      <td>TRAPPIST-1e</td>\n",
              "      <td>55.0</td>\n",
              "      <td>False</td>\n",
              "      <td>0.0</td>\n",
              "      <td>0.0</td>\n",
              "      <td>0.0</td>\n",
              "      <td>0.0</td>\n",
              "      <td>0.0</td>\n",
              "      <td>1</td>\n",
              "      <td>F</td>\n",
              "      <td>1772</td>\n",
              "      <td>P</td>\n",
              "      <td>Ruity</td>\n",
              "    </tr>\n",
              "    <tr>\n",
              "      <th>7821</th>\n",
              "      <td>Earth</td>\n",
              "      <td>False</td>\n",
              "      <td>TRAPPIST-1e</td>\n",
              "      <td>15.0</td>\n",
              "      <td>False</td>\n",
              "      <td>0.0</td>\n",
              "      <td>840.0</td>\n",
              "      <td>123.0</td>\n",
              "      <td>0.0</td>\n",
              "      <td>20.0</td>\n",
              "      <td>0</td>\n",
              "      <td>E</td>\n",
              "      <td>253</td>\n",
              "      <td>P</td>\n",
              "      <td>Weavesend</td>\n",
              "    </tr>\n",
              "    <tr>\n",
              "      <th>7822</th>\n",
              "      <td>Europa</td>\n",
              "      <td>True</td>\n",
              "      <td>55 Cancri e</td>\n",
              "      <td>45.0</td>\n",
              "      <td>False</td>\n",
              "      <td>0.0</td>\n",
              "      <td>0.0</td>\n",
              "      <td>0.0</td>\n",
              "      <td>0.0</td>\n",
              "      <td>0.0</td>\n",
              "      <td>1</td>\n",
              "      <td>B</td>\n",
              "      <td>270</td>\n",
              "      <td>P</td>\n",
              "      <td>Donotaked</td>\n",
              "    </tr>\n",
              "  </tbody>\n",
              "</table>\n",
              "<p>7823 rows × 15 columns</p>\n",
              "</div>\n",
              "      <button class=\"colab-df-convert\" onclick=\"convertToInteractive('df-73660f4b-44c1-421c-b0a6-af311f17c75d')\"\n",
              "              title=\"Convert this dataframe to an interactive table.\"\n",
              "              style=\"display:none;\">\n",
              "        \n",
              "  <svg xmlns=\"http://www.w3.org/2000/svg\" height=\"24px\"viewBox=\"0 0 24 24\"\n",
              "       width=\"24px\">\n",
              "    <path d=\"M0 0h24v24H0V0z\" fill=\"none\"/>\n",
              "    <path d=\"M18.56 5.44l.94 2.06.94-2.06 2.06-.94-2.06-.94-.94-2.06-.94 2.06-2.06.94zm-11 1L8.5 8.5l.94-2.06 2.06-.94-2.06-.94L8.5 2.5l-.94 2.06-2.06.94zm10 10l.94 2.06.94-2.06 2.06-.94-2.06-.94-.94-2.06-.94 2.06-2.06.94z\"/><path d=\"M17.41 7.96l-1.37-1.37c-.4-.4-.92-.59-1.43-.59-.52 0-1.04.2-1.43.59L10.3 9.45l-7.72 7.72c-.78.78-.78 2.05 0 2.83L4 21.41c.39.39.9.59 1.41.59.51 0 1.02-.2 1.41-.59l7.78-7.78 2.81-2.81c.8-.78.8-2.07 0-2.86zM5.41 20L4 18.59l7.72-7.72 1.47 1.35L5.41 20z\"/>\n",
              "  </svg>\n",
              "      </button>\n",
              "      \n",
              "  <style>\n",
              "    .colab-df-container {\n",
              "      display:flex;\n",
              "      flex-wrap:wrap;\n",
              "      gap: 12px;\n",
              "    }\n",
              "\n",
              "    .colab-df-convert {\n",
              "      background-color: #E8F0FE;\n",
              "      border: none;\n",
              "      border-radius: 50%;\n",
              "      cursor: pointer;\n",
              "      display: none;\n",
              "      fill: #1967D2;\n",
              "      height: 32px;\n",
              "      padding: 0 0 0 0;\n",
              "      width: 32px;\n",
              "    }\n",
              "\n",
              "    .colab-df-convert:hover {\n",
              "      background-color: #E2EBFA;\n",
              "      box-shadow: 0px 1px 2px rgba(60, 64, 67, 0.3), 0px 1px 3px 1px rgba(60, 64, 67, 0.15);\n",
              "      fill: #174EA6;\n",
              "    }\n",
              "\n",
              "    [theme=dark] .colab-df-convert {\n",
              "      background-color: #3B4455;\n",
              "      fill: #D2E3FC;\n",
              "    }\n",
              "\n",
              "    [theme=dark] .colab-df-convert:hover {\n",
              "      background-color: #434B5C;\n",
              "      box-shadow: 0px 1px 3px 1px rgba(0, 0, 0, 0.15);\n",
              "      filter: drop-shadow(0px 1px 2px rgba(0, 0, 0, 0.3));\n",
              "      fill: #FFFFFF;\n",
              "    }\n",
              "  </style>\n",
              "\n",
              "      <script>\n",
              "        const buttonEl =\n",
              "          document.querySelector('#df-73660f4b-44c1-421c-b0a6-af311f17c75d button.colab-df-convert');\n",
              "        buttonEl.style.display =\n",
              "          google.colab.kernel.accessAllowed ? 'block' : 'none';\n",
              "\n",
              "        async function convertToInteractive(key) {\n",
              "          const element = document.querySelector('#df-73660f4b-44c1-421c-b0a6-af311f17c75d');\n",
              "          const dataTable =\n",
              "            await google.colab.kernel.invokeFunction('convertToInteractive',\n",
              "                                                     [key], {});\n",
              "          if (!dataTable) return;\n",
              "\n",
              "          const docLinkHtml = 'Like what you see? Visit the ' +\n",
              "            '<a target=\"_blank\" href=https://colab.research.google.com/notebooks/data_table.ipynb>data table notebook</a>'\n",
              "            + ' to learn more about interactive tables.';\n",
              "          element.innerHTML = '';\n",
              "          dataTable['output_type'] = 'display_data';\n",
              "          await google.colab.output.renderOutput(dataTable, element);\n",
              "          const docLink = document.createElement('div');\n",
              "          docLink.innerHTML = docLinkHtml;\n",
              "          element.appendChild(docLink);\n",
              "        }\n",
              "      </script>\n",
              "    </div>\n",
              "  </div>\n",
              "  "
            ]
          },
          "metadata": {},
          "execution_count": 165
        }
      ],
      "source": [
        "if dataset == 'kaggle':\n",
        "  # Splitteamos finalmente el PassengerId en Grupo y Number\n",
        "  df[['PassengerId_Group','PassengerId_Number']] = df.PassengerId.str.split('_', expand=True)\n",
        "\n",
        "# Se elimina la variable original\n",
        "df.drop('PassengerId', axis=1, inplace=True)\n",
        "df"
      ]
    },
    {
      "cell_type": "code",
      "execution_count": null,
      "metadata": {
        "colab": {
          "base_uri": "https://localhost:8080/"
        },
        "id": "NO_5yxIyteHv",
        "outputId": "7cae3964-e631-4035-a3d2-cd98096e6268"
      },
      "outputs": [
        {
          "output_type": "stream",
          "name": "stdout",
          "text": [
            "La Cantidad de Apellidos es: 2182\n",
            "La Cantidad de Decks es: 9\n",
            "La Cantidad de Camarotes es: 1773\n"
          ]
        }
      ],
      "source": [
        "# Antes de hacer encoding, verificamos la cantidad de valores que toma cada variable categórica:\n",
        "\n",
        "Cant_apellidos = len(df.Last_Name.unique())\n",
        "Cant_decks = len(df.Cabin_Deck.unique())\n",
        "Cant_camarotes = len(df.Cabin_Num.unique())\n",
        "\n",
        "print(f'La Cantidad de Apellidos es: {Cant_apellidos}')\n",
        "print(f'La Cantidad de Decks es: {Cant_decks}')\n",
        "print(f'La Cantidad de Camarotes es: {Cant_camarotes}')\n",
        "\n",
        "if dataset == 'kaggle':\n",
        "  Cant_PassengerId_Group = len(df.PassengerId_Group.unique())\n",
        "  Cant_PassengerId_Number = len(df.PassengerId_Number.unique())\n",
        "  print(f'La Cantidad de Passenger Groups es: {Cant_PassengerId_Group}')\n",
        "  print(f'La Cantidad de Passenger Number es: {Cant_PassengerId_Number}')"
      ]
    },
    {
      "cell_type": "markdown",
      "metadata": {
        "id": "HnI1pMeSxj0m"
      },
      "source": [
        "## Preparación para el Entrenamiento"
      ]
    },
    {
      "cell_type": "code",
      "execution_count": null,
      "metadata": {
        "id": "IPvlCcZ3a9aU"
      },
      "outputs": [],
      "source": [
        "# Creación del DF X_train y separación de la clase Target\n",
        "X_train = df.copy()\n",
        "X_train.drop('Transported', axis= 1, inplace=True)\n",
        "y_train = df.Transported\n",
        "\n",
        "# Guardamos un DF X_train sin imputar\n",
        "X_train_with_NaN = X_train.copy()"
      ]
    },
    {
      "cell_type": "code",
      "execution_count": null,
      "metadata": {
        "colab": {
          "base_uri": "https://localhost:8080/"
        },
        "id": "4iITuU3ca9aU",
        "outputId": "90a92a17-f703-4df4-a19c-a1c153a450c2"
      },
      "outputs": [
        {
          "output_type": "stream",
          "name": "stdout",
          "text": [
            "El conjunto de entrenamiento tiene dimensiones: (7823, 14) \n",
            "Los labels de entrenamiento tiene dimensiones: (7823,) \n"
          ]
        }
      ],
      "source": [
        "print(f'El conjunto de entrenamiento tiene dimensiones: {X_train.shape} ')\n",
        "print(f'Los labels de entrenamiento tiene dimensiones: {y_train.shape} ')"
      ]
    },
    {
      "cell_type": "markdown",
      "metadata": {
        "id": "vzDgdva0Gl8L"
      },
      "source": [
        "###Pipelines para Datos Numéricos"
      ]
    },
    {
      "cell_type": "code",
      "execution_count": null,
      "metadata": {
        "id": "D5czAn1REE2x"
      },
      "outputs": [],
      "source": [
        "# Pipeline con Imputación\n",
        "num_pipeline = Pipeline([\n",
        "('scaler', StandardScaler()),\n",
        "('imputer', SimpleImputer(strategy=\"median\")),\n",
        "])\n",
        "\n",
        "# Pipeline sin Imputar\n",
        "num_pipeline_with_NaN = Pipeline([\n",
        "('scaler', StandardScaler()),\n",
        "])"
      ]
    },
    {
      "cell_type": "markdown",
      "metadata": {
        "id": "IvCEPLz-oDhD"
      },
      "source": [
        "### Pipelines para Datos Categóricos\n"
      ]
    },
    {
      "cell_type": "code",
      "execution_count": null,
      "metadata": {
        "id": "fizCbk2noIpD"
      },
      "outputs": [],
      "source": [
        "# Pipeline con Imputación\n",
        "cat_pipeline = Pipeline([\n",
        "\n",
        "#('encoder', OneHotEncoder(sparse=False)),\n",
        "#('scaler', StandardScaler()),\n",
        "#('imputer', IterativeImputer(random_state=0)),\n",
        "\n",
        "('encoder', OneHotEncoder(sparse=False)),\n",
        "('scaler', StandardScaler()),\n",
        "('imputer', KNNImputer()),\n",
        "])\n",
        "\n",
        "# Pipeline sin Imputar\n",
        "cat_pipeline_with_NaN = Pipeline([\n",
        "('encoder', OneHotEncoder(sparse=False)),\n",
        "('scaler', StandardScaler()),\n",
        "])"
      ]
    },
    {
      "cell_type": "markdown",
      "metadata": {
        "id": "FmCUQz_GKGBG"
      },
      "source": [
        "### Pipeline ColumnTransformer"
      ]
    },
    {
      "cell_type": "code",
      "execution_count": null,
      "metadata": {
        "id": "9H-5VBUNKDbA"
      },
      "outputs": [],
      "source": [
        "# Antes de aplicar la transformación de los datos, listamos las columnas numéricas y las categóricas \n",
        "num_df = X_train.select_dtypes(include=[np.number])\n",
        "cat_df = X_train.select_dtypes(exclude=[np.number])\n",
        "\n",
        "num_attribs = list(num_df)\n",
        "cat_attribs = list(cat_df)\n",
        "\n",
        "if dataset == 'kaggle':\n",
        "  cat_attribs.remove('PassengerId_Group') # Posible mejora, parsear el grupo de pasajero y agregarlo como variable categorica\n",
        "  cat_attribs.remove('PassengerId_Number') # Posible mejora, parsear el grupo de pasajero y agregarlo como variable categorica\n",
        "\n",
        "cat_attribs.remove('Cabin_Num') # No excluir esto puede ser una mejora\n",
        "cat_attribs.remove('Last_Name') # No excluir esto puede ser una mejora"
      ]
    },
    {
      "cell_type": "code",
      "execution_count": null,
      "metadata": {
        "id": "od2BGgJniaFy"
      },
      "outputs": [],
      "source": [
        "# Pipeline con Imputación\n",
        "full_pipeline = ColumnTransformer([\n",
        "(\"cat\", cat_pipeline, cat_attribs),\n",
        "(\"num\", num_pipeline, num_attribs),\n",
        "])\n",
        "\n",
        "# Pipeline sin Imputar\n",
        "full_pipeline_with_NaN = ColumnTransformer([\n",
        "(\"cat\", cat_pipeline_with_NaN, cat_attribs),\n",
        "(\"num\", num_pipeline_with_NaN, num_attribs),\n",
        "])"
      ]
    },
    {
      "cell_type": "markdown",
      "source": [
        "### Transformacion"
      ],
      "metadata": {
        "id": "5_RqMCUdOnRS"
      }
    },
    {
      "cell_type": "code",
      "source": [
        "# Preparamos el X_train con el Pipeline con imputación\n",
        "X_train = full_pipeline.fit_transform(X_train)\n",
        "\n",
        "# Preparamos el X_train con el Pipeline sin imputación\n",
        "X_train_with_NaN = full_pipeline_with_NaN.fit_transform(X_train_with_NaN)"
      ],
      "metadata": {
        "id": "q02aTwnCOuLs"
      },
      "execution_count": null,
      "outputs": []
    },
    {
      "cell_type": "code",
      "execution_count": null,
      "metadata": {
        "colab": {
          "base_uri": "https://localhost:8080/",
          "height": 488
        },
        "id": "Uf-oPj87mciD",
        "outputId": "14863554-5a14-4b6c-90ca-0890623b3ffa"
      },
      "outputs": [
        {
          "output_type": "execute_result",
          "data": {
            "text/plain": [
              "            0         1         2         3         4         5         6   \\\n",
              "0    -1.053183  1.744389 -0.506065 -0.153026  0.778483 -0.737504 -0.160307   \n",
              "1    -1.053183 -0.573267  1.976032 -0.153026 -1.284550  1.355926 -0.160307   \n",
              "2    -1.053183  1.744389 -0.506065 -0.153026 -1.284550  1.355926 -0.160307   \n",
              "3     0.949503 -0.573267 -0.506065 -0.153026  0.778483 -0.737504 -0.160307   \n",
              "4     0.949503 -0.573267 -0.506065 -0.153026  0.778483 -0.737504 -0.160307   \n",
              "...        ...       ...       ...       ...       ...       ...       ...   \n",
              "7818 -1.053183 -0.573267  1.976032 -0.153026  0.778483 -0.737504 -0.160307   \n",
              "7819  0.949503 -0.573267 -0.506065 -0.153026  0.778483 -0.737504 -0.160307   \n",
              "7820 -1.053183 -0.573267  1.976032 -0.153026 -1.284550  1.355926 -0.160307   \n",
              "7821  0.949503 -0.573267 -0.506065 -0.153026  0.778483 -0.737504 -0.160307   \n",
              "7822 -1.053183  1.744389 -0.506065 -0.153026 -1.284550  1.355926 -0.160307   \n",
              "\n",
              "            7         8         9   ...      22        23        24      25  \\\n",
              "0    -0.512036 -0.318866  0.686728  ... -0.1552  1.028924 -0.981634 -0.1552   \n",
              "1    -0.512036 -0.318866 -1.456181  ... -0.1552 -0.971889  1.018710 -0.1552   \n",
              "2    -0.512036 -0.318866  0.686728  ... -0.1552 -0.971889  1.018710 -0.1552   \n",
              "3    -0.512036 -0.318866  0.686728  ... -0.1552  1.028924 -0.981634 -0.1552   \n",
              "4    -0.512036 -0.318866  0.686728  ... -0.1552  1.028924 -0.981634 -0.1552   \n",
              "...        ...       ...       ...  ...     ...       ...       ...     ...   \n",
              "7818 -0.512036 -0.318866  0.686728  ... -0.1552 -0.971889  1.018710 -0.1552   \n",
              "7819 -0.512036 -0.318866  0.686728  ... -0.1552 -0.971889  1.018710 -0.1552   \n",
              "7820 -0.512036 -0.318866  0.686728  ... -0.1552  1.028924 -0.981634 -0.1552   \n",
              "7821 -0.512036 -0.318866  0.686728  ... -0.1552  1.028924 -0.981634 -0.1552   \n",
              "7822  1.952986 -0.318866 -1.456181  ... -0.1552  1.028924 -0.981634 -0.1552   \n",
              "\n",
              "            26        27        28        29        30        31  \n",
              "0     1.944636 -0.332891  2.099303 -0.266942 -0.097078  3.272797  \n",
              "1    -0.752347 -0.332891 -0.281056 -0.288685 -0.269134 -0.270233  \n",
              "2     0.284954 -0.332891 -0.281056 -0.288685 -0.269134 -0.270233  \n",
              "3     0.976488 -0.123802  0.464079 -0.288685 -0.269134 -0.083662  \n",
              "4    -0.683193 -0.332891 -0.281056  0.831932 -0.268252 -0.239138  \n",
              "...        ...       ...       ...       ...       ...       ...  \n",
              "7818 -1.167267 -0.332891 -0.281056 -0.288685 -0.269134 -0.270233  \n",
              "7819  1.045642 -0.332891 -0.281056  0.955702 -0.214429 -0.267489  \n",
              "7820  1.806329 -0.332891 -0.281056 -0.288685 -0.269134 -0.270233  \n",
              "7821 -0.959807 -0.332891  0.237084 -0.082960 -0.269134 -0.251942  \n",
              "7822  1.114795 -0.332891 -0.281056 -0.288685 -0.269134 -0.270233  \n",
              "\n",
              "[7823 rows x 32 columns]"
            ],
            "text/html": [
              "\n",
              "  <div id=\"df-98d1e532-f1cf-45bb-bfbd-b4be750e6b2d\">\n",
              "    <div class=\"colab-df-container\">\n",
              "      <div>\n",
              "<style scoped>\n",
              "    .dataframe tbody tr th:only-of-type {\n",
              "        vertical-align: middle;\n",
              "    }\n",
              "\n",
              "    .dataframe tbody tr th {\n",
              "        vertical-align: top;\n",
              "    }\n",
              "\n",
              "    .dataframe thead th {\n",
              "        text-align: right;\n",
              "    }\n",
              "</style>\n",
              "<table border=\"1\" class=\"dataframe\">\n",
              "  <thead>\n",
              "    <tr style=\"text-align: right;\">\n",
              "      <th></th>\n",
              "      <th>0</th>\n",
              "      <th>1</th>\n",
              "      <th>2</th>\n",
              "      <th>3</th>\n",
              "      <th>4</th>\n",
              "      <th>5</th>\n",
              "      <th>6</th>\n",
              "      <th>7</th>\n",
              "      <th>8</th>\n",
              "      <th>9</th>\n",
              "      <th>...</th>\n",
              "      <th>22</th>\n",
              "      <th>23</th>\n",
              "      <th>24</th>\n",
              "      <th>25</th>\n",
              "      <th>26</th>\n",
              "      <th>27</th>\n",
              "      <th>28</th>\n",
              "      <th>29</th>\n",
              "      <th>30</th>\n",
              "      <th>31</th>\n",
              "    </tr>\n",
              "  </thead>\n",
              "  <tbody>\n",
              "    <tr>\n",
              "      <th>0</th>\n",
              "      <td>-1.053183</td>\n",
              "      <td>1.744389</td>\n",
              "      <td>-0.506065</td>\n",
              "      <td>-0.153026</td>\n",
              "      <td>0.778483</td>\n",
              "      <td>-0.737504</td>\n",
              "      <td>-0.160307</td>\n",
              "      <td>-0.512036</td>\n",
              "      <td>-0.318866</td>\n",
              "      <td>0.686728</td>\n",
              "      <td>...</td>\n",
              "      <td>-0.1552</td>\n",
              "      <td>1.028924</td>\n",
              "      <td>-0.981634</td>\n",
              "      <td>-0.1552</td>\n",
              "      <td>1.944636</td>\n",
              "      <td>-0.332891</td>\n",
              "      <td>2.099303</td>\n",
              "      <td>-0.266942</td>\n",
              "      <td>-0.097078</td>\n",
              "      <td>3.272797</td>\n",
              "    </tr>\n",
              "    <tr>\n",
              "      <th>1</th>\n",
              "      <td>-1.053183</td>\n",
              "      <td>-0.573267</td>\n",
              "      <td>1.976032</td>\n",
              "      <td>-0.153026</td>\n",
              "      <td>-1.284550</td>\n",
              "      <td>1.355926</td>\n",
              "      <td>-0.160307</td>\n",
              "      <td>-0.512036</td>\n",
              "      <td>-0.318866</td>\n",
              "      <td>-1.456181</td>\n",
              "      <td>...</td>\n",
              "      <td>-0.1552</td>\n",
              "      <td>-0.971889</td>\n",
              "      <td>1.018710</td>\n",
              "      <td>-0.1552</td>\n",
              "      <td>-0.752347</td>\n",
              "      <td>-0.332891</td>\n",
              "      <td>-0.281056</td>\n",
              "      <td>-0.288685</td>\n",
              "      <td>-0.269134</td>\n",
              "      <td>-0.270233</td>\n",
              "    </tr>\n",
              "    <tr>\n",
              "      <th>2</th>\n",
              "      <td>-1.053183</td>\n",
              "      <td>1.744389</td>\n",
              "      <td>-0.506065</td>\n",
              "      <td>-0.153026</td>\n",
              "      <td>-1.284550</td>\n",
              "      <td>1.355926</td>\n",
              "      <td>-0.160307</td>\n",
              "      <td>-0.512036</td>\n",
              "      <td>-0.318866</td>\n",
              "      <td>0.686728</td>\n",
              "      <td>...</td>\n",
              "      <td>-0.1552</td>\n",
              "      <td>-0.971889</td>\n",
              "      <td>1.018710</td>\n",
              "      <td>-0.1552</td>\n",
              "      <td>0.284954</td>\n",
              "      <td>-0.332891</td>\n",
              "      <td>-0.281056</td>\n",
              "      <td>-0.288685</td>\n",
              "      <td>-0.269134</td>\n",
              "      <td>-0.270233</td>\n",
              "    </tr>\n",
              "    <tr>\n",
              "      <th>3</th>\n",
              "      <td>0.949503</td>\n",
              "      <td>-0.573267</td>\n",
              "      <td>-0.506065</td>\n",
              "      <td>-0.153026</td>\n",
              "      <td>0.778483</td>\n",
              "      <td>-0.737504</td>\n",
              "      <td>-0.160307</td>\n",
              "      <td>-0.512036</td>\n",
              "      <td>-0.318866</td>\n",
              "      <td>0.686728</td>\n",
              "      <td>...</td>\n",
              "      <td>-0.1552</td>\n",
              "      <td>1.028924</td>\n",
              "      <td>-0.981634</td>\n",
              "      <td>-0.1552</td>\n",
              "      <td>0.976488</td>\n",
              "      <td>-0.123802</td>\n",
              "      <td>0.464079</td>\n",
              "      <td>-0.288685</td>\n",
              "      <td>-0.269134</td>\n",
              "      <td>-0.083662</td>\n",
              "    </tr>\n",
              "    <tr>\n",
              "      <th>4</th>\n",
              "      <td>0.949503</td>\n",
              "      <td>-0.573267</td>\n",
              "      <td>-0.506065</td>\n",
              "      <td>-0.153026</td>\n",
              "      <td>0.778483</td>\n",
              "      <td>-0.737504</td>\n",
              "      <td>-0.160307</td>\n",
              "      <td>-0.512036</td>\n",
              "      <td>-0.318866</td>\n",
              "      <td>0.686728</td>\n",
              "      <td>...</td>\n",
              "      <td>-0.1552</td>\n",
              "      <td>1.028924</td>\n",
              "      <td>-0.981634</td>\n",
              "      <td>-0.1552</td>\n",
              "      <td>-0.683193</td>\n",
              "      <td>-0.332891</td>\n",
              "      <td>-0.281056</td>\n",
              "      <td>0.831932</td>\n",
              "      <td>-0.268252</td>\n",
              "      <td>-0.239138</td>\n",
              "    </tr>\n",
              "    <tr>\n",
              "      <th>...</th>\n",
              "      <td>...</td>\n",
              "      <td>...</td>\n",
              "      <td>...</td>\n",
              "      <td>...</td>\n",
              "      <td>...</td>\n",
              "      <td>...</td>\n",
              "      <td>...</td>\n",
              "      <td>...</td>\n",
              "      <td>...</td>\n",
              "      <td>...</td>\n",
              "      <td>...</td>\n",
              "      <td>...</td>\n",
              "      <td>...</td>\n",
              "      <td>...</td>\n",
              "      <td>...</td>\n",
              "      <td>...</td>\n",
              "      <td>...</td>\n",
              "      <td>...</td>\n",
              "      <td>...</td>\n",
              "      <td>...</td>\n",
              "      <td>...</td>\n",
              "    </tr>\n",
              "    <tr>\n",
              "      <th>7818</th>\n",
              "      <td>-1.053183</td>\n",
              "      <td>-0.573267</td>\n",
              "      <td>1.976032</td>\n",
              "      <td>-0.153026</td>\n",
              "      <td>0.778483</td>\n",
              "      <td>-0.737504</td>\n",
              "      <td>-0.160307</td>\n",
              "      <td>-0.512036</td>\n",
              "      <td>-0.318866</td>\n",
              "      <td>0.686728</td>\n",
              "      <td>...</td>\n",
              "      <td>-0.1552</td>\n",
              "      <td>-0.971889</td>\n",
              "      <td>1.018710</td>\n",
              "      <td>-0.1552</td>\n",
              "      <td>-1.167267</td>\n",
              "      <td>-0.332891</td>\n",
              "      <td>-0.281056</td>\n",
              "      <td>-0.288685</td>\n",
              "      <td>-0.269134</td>\n",
              "      <td>-0.270233</td>\n",
              "    </tr>\n",
              "    <tr>\n",
              "      <th>7819</th>\n",
              "      <td>0.949503</td>\n",
              "      <td>-0.573267</td>\n",
              "      <td>-0.506065</td>\n",
              "      <td>-0.153026</td>\n",
              "      <td>0.778483</td>\n",
              "      <td>-0.737504</td>\n",
              "      <td>-0.160307</td>\n",
              "      <td>-0.512036</td>\n",
              "      <td>-0.318866</td>\n",
              "      <td>0.686728</td>\n",
              "      <td>...</td>\n",
              "      <td>-0.1552</td>\n",
              "      <td>-0.971889</td>\n",
              "      <td>1.018710</td>\n",
              "      <td>-0.1552</td>\n",
              "      <td>1.045642</td>\n",
              "      <td>-0.332891</td>\n",
              "      <td>-0.281056</td>\n",
              "      <td>0.955702</td>\n",
              "      <td>-0.214429</td>\n",
              "      <td>-0.267489</td>\n",
              "    </tr>\n",
              "    <tr>\n",
              "      <th>7820</th>\n",
              "      <td>-1.053183</td>\n",
              "      <td>-0.573267</td>\n",
              "      <td>1.976032</td>\n",
              "      <td>-0.153026</td>\n",
              "      <td>-1.284550</td>\n",
              "      <td>1.355926</td>\n",
              "      <td>-0.160307</td>\n",
              "      <td>-0.512036</td>\n",
              "      <td>-0.318866</td>\n",
              "      <td>0.686728</td>\n",
              "      <td>...</td>\n",
              "      <td>-0.1552</td>\n",
              "      <td>1.028924</td>\n",
              "      <td>-0.981634</td>\n",
              "      <td>-0.1552</td>\n",
              "      <td>1.806329</td>\n",
              "      <td>-0.332891</td>\n",
              "      <td>-0.281056</td>\n",
              "      <td>-0.288685</td>\n",
              "      <td>-0.269134</td>\n",
              "      <td>-0.270233</td>\n",
              "    </tr>\n",
              "    <tr>\n",
              "      <th>7821</th>\n",
              "      <td>0.949503</td>\n",
              "      <td>-0.573267</td>\n",
              "      <td>-0.506065</td>\n",
              "      <td>-0.153026</td>\n",
              "      <td>0.778483</td>\n",
              "      <td>-0.737504</td>\n",
              "      <td>-0.160307</td>\n",
              "      <td>-0.512036</td>\n",
              "      <td>-0.318866</td>\n",
              "      <td>0.686728</td>\n",
              "      <td>...</td>\n",
              "      <td>-0.1552</td>\n",
              "      <td>1.028924</td>\n",
              "      <td>-0.981634</td>\n",
              "      <td>-0.1552</td>\n",
              "      <td>-0.959807</td>\n",
              "      <td>-0.332891</td>\n",
              "      <td>0.237084</td>\n",
              "      <td>-0.082960</td>\n",
              "      <td>-0.269134</td>\n",
              "      <td>-0.251942</td>\n",
              "    </tr>\n",
              "    <tr>\n",
              "      <th>7822</th>\n",
              "      <td>-1.053183</td>\n",
              "      <td>1.744389</td>\n",
              "      <td>-0.506065</td>\n",
              "      <td>-0.153026</td>\n",
              "      <td>-1.284550</td>\n",
              "      <td>1.355926</td>\n",
              "      <td>-0.160307</td>\n",
              "      <td>1.952986</td>\n",
              "      <td>-0.318866</td>\n",
              "      <td>-1.456181</td>\n",
              "      <td>...</td>\n",
              "      <td>-0.1552</td>\n",
              "      <td>1.028924</td>\n",
              "      <td>-0.981634</td>\n",
              "      <td>-0.1552</td>\n",
              "      <td>1.114795</td>\n",
              "      <td>-0.332891</td>\n",
              "      <td>-0.281056</td>\n",
              "      <td>-0.288685</td>\n",
              "      <td>-0.269134</td>\n",
              "      <td>-0.270233</td>\n",
              "    </tr>\n",
              "  </tbody>\n",
              "</table>\n",
              "<p>7823 rows × 32 columns</p>\n",
              "</div>\n",
              "      <button class=\"colab-df-convert\" onclick=\"convertToInteractive('df-98d1e532-f1cf-45bb-bfbd-b4be750e6b2d')\"\n",
              "              title=\"Convert this dataframe to an interactive table.\"\n",
              "              style=\"display:none;\">\n",
              "        \n",
              "  <svg xmlns=\"http://www.w3.org/2000/svg\" height=\"24px\"viewBox=\"0 0 24 24\"\n",
              "       width=\"24px\">\n",
              "    <path d=\"M0 0h24v24H0V0z\" fill=\"none\"/>\n",
              "    <path d=\"M18.56 5.44l.94 2.06.94-2.06 2.06-.94-2.06-.94-.94-2.06-.94 2.06-2.06.94zm-11 1L8.5 8.5l.94-2.06 2.06-.94-2.06-.94L8.5 2.5l-.94 2.06-2.06.94zm10 10l.94 2.06.94-2.06 2.06-.94-2.06-.94-.94-2.06-.94 2.06-2.06.94z\"/><path d=\"M17.41 7.96l-1.37-1.37c-.4-.4-.92-.59-1.43-.59-.52 0-1.04.2-1.43.59L10.3 9.45l-7.72 7.72c-.78.78-.78 2.05 0 2.83L4 21.41c.39.39.9.59 1.41.59.51 0 1.02-.2 1.41-.59l7.78-7.78 2.81-2.81c.8-.78.8-2.07 0-2.86zM5.41 20L4 18.59l7.72-7.72 1.47 1.35L5.41 20z\"/>\n",
              "  </svg>\n",
              "      </button>\n",
              "      \n",
              "  <style>\n",
              "    .colab-df-container {\n",
              "      display:flex;\n",
              "      flex-wrap:wrap;\n",
              "      gap: 12px;\n",
              "    }\n",
              "\n",
              "    .colab-df-convert {\n",
              "      background-color: #E8F0FE;\n",
              "      border: none;\n",
              "      border-radius: 50%;\n",
              "      cursor: pointer;\n",
              "      display: none;\n",
              "      fill: #1967D2;\n",
              "      height: 32px;\n",
              "      padding: 0 0 0 0;\n",
              "      width: 32px;\n",
              "    }\n",
              "\n",
              "    .colab-df-convert:hover {\n",
              "      background-color: #E2EBFA;\n",
              "      box-shadow: 0px 1px 2px rgba(60, 64, 67, 0.3), 0px 1px 3px 1px rgba(60, 64, 67, 0.15);\n",
              "      fill: #174EA6;\n",
              "    }\n",
              "\n",
              "    [theme=dark] .colab-df-convert {\n",
              "      background-color: #3B4455;\n",
              "      fill: #D2E3FC;\n",
              "    }\n",
              "\n",
              "    [theme=dark] .colab-df-convert:hover {\n",
              "      background-color: #434B5C;\n",
              "      box-shadow: 0px 1px 3px 1px rgba(0, 0, 0, 0.15);\n",
              "      filter: drop-shadow(0px 1px 2px rgba(0, 0, 0, 0.3));\n",
              "      fill: #FFFFFF;\n",
              "    }\n",
              "  </style>\n",
              "\n",
              "      <script>\n",
              "        const buttonEl =\n",
              "          document.querySelector('#df-98d1e532-f1cf-45bb-bfbd-b4be750e6b2d button.colab-df-convert');\n",
              "        buttonEl.style.display =\n",
              "          google.colab.kernel.accessAllowed ? 'block' : 'none';\n",
              "\n",
              "        async function convertToInteractive(key) {\n",
              "          const element = document.querySelector('#df-98d1e532-f1cf-45bb-bfbd-b4be750e6b2d');\n",
              "          const dataTable =\n",
              "            await google.colab.kernel.invokeFunction('convertToInteractive',\n",
              "                                                     [key], {});\n",
              "          if (!dataTable) return;\n",
              "\n",
              "          const docLinkHtml = 'Like what you see? Visit the ' +\n",
              "            '<a target=\"_blank\" href=https://colab.research.google.com/notebooks/data_table.ipynb>data table notebook</a>'\n",
              "            + ' to learn more about interactive tables.';\n",
              "          element.innerHTML = '';\n",
              "          dataTable['output_type'] = 'display_data';\n",
              "          await google.colab.output.renderOutput(dataTable, element);\n",
              "          const docLink = document.createElement('div');\n",
              "          docLink.innerHTML = docLinkHtml;\n",
              "          element.appendChild(docLink);\n",
              "        }\n",
              "      </script>\n",
              "    </div>\n",
              "  </div>\n",
              "  "
            ]
          },
          "metadata": {},
          "execution_count": 174
        }
      ],
      "source": [
        "X_train = pd.DataFrame(X_train)\n",
        "X_train"
      ]
    },
    {
      "cell_type": "code",
      "execution_count": null,
      "metadata": {
        "colab": {
          "base_uri": "https://localhost:8080/"
        },
        "id": "ap0QGd1ir_IT",
        "outputId": "0be43801-44f1-4bdd-85de-5d8081959e82"
      },
      "outputs": [
        {
          "output_type": "stream",
          "name": "stdout",
          "text": [
            "El conjunto de entrenamiento tiene dimensiones: (7823, 32) \n",
            "Los labels de entrenamiento tiene dimensiones: (7823,) \n"
          ]
        }
      ],
      "source": [
        "print(f'El conjunto de entrenamiento tiene dimensiones: {X_train.shape} ')\n",
        "print(f'Los labels de entrenamiento tiene dimensiones: {y_train.shape} ')"
      ]
    },
    {
      "cell_type": "markdown",
      "metadata": {
        "id": "jGVKc2msDJ0N"
      },
      "source": [
        "## **Testing Modelos**"
      ]
    },
    {
      "cell_type": "code",
      "execution_count": null,
      "metadata": {
        "id": "OIgUd6JaHbMN"
      },
      "outputs": [],
      "source": [
        "Resultados = {}"
      ]
    },
    {
      "cell_type": "code",
      "source": [
        "X_tr, X_t, y_tr, y_t = train_test_split(X_train, y_train, test_size=0.2)\n",
        "\n",
        "model_LSVC = LinearSVC(random_state=0, max_iter=10000, dual=False)\n",
        "model_DTC = DecisionTreeClassifier(random_state=0)\n",
        "model_MLP = MLPClassifier(random_state=0, max_iter=1000)\n",
        "model_GBC = GradientBoostingClassifier(random_state=0)\n",
        "model_RFC = RandomForestClassifier(random_state=0)\n",
        "model_SVC = SVC(verbose=True, random_state=0)\n",
        "model_HGBC = HistGradientBoostingClassifier(random_state=0)\n",
        "\n",
        "# Modelos sin testear:\n",
        "#   LogisticRegression(),\n",
        "#   GaussianNB()\n",
        "\n",
        "models = [model_LSVC, model_DTC, model_MLP, model_GBC, model_RFC, model_SVC]\n",
        "\n",
        "for model in models:\n",
        "  model.fit(X_tr, y_tr)\n",
        "    \n",
        "  train_predictions = model.predict(X_tr)\n",
        "  accuracy = accuracy_score(y_tr, train_predictions)\n",
        "  print(f'Accuracy train {model}: %.2f%%' % (accuracy * 100.0))\n",
        "\n",
        "  test_predictions = model.predict(X_t)\n",
        "  accuracy = accuracy_score(y_t, test_predictions)\n",
        "  print(f'Accuracy test {model}: %.2f%%\\n' % (accuracy * 100.0))\n",
        "\n",
        "# Agrego Histogram GBC para probar sin imputar Missing Values    \n",
        "X_tr, X_t, y_tr, y_t = train_test_split(X_train_with_NaN, y_train, test_size=0.2)\n",
        "\n",
        "model_HGBC.fit(X_train_with_NaN, y_train)\n",
        "\n",
        "train_predictions = model_HGBC.predict(X_tr)\n",
        "accuracy = accuracy_score(y_tr, train_predictions)\n",
        "print(f'Accuracy train {model_HGBC}: %.2f%%' % (accuracy * 100.0))\n",
        "\n",
        "test_predictions = model_HGBC.predict(X_t)\n",
        "accuracy = accuracy_score(y_t, test_predictions)\n",
        "print(f'Accuracy test {model_HGBC}: %.2f%%\\n' % (accuracy * 100.0))"
      ],
      "metadata": {
        "colab": {
          "base_uri": "https://localhost:8080/"
        },
        "id": "AvGP9Rw8b3UK",
        "outputId": "4ad94959-25c3-4363-b9fa-f3bb5e3e2e12"
      },
      "execution_count": null,
      "outputs": [
        {
          "output_type": "stream",
          "name": "stdout",
          "text": [
            "Accuracy train LinearSVC(dual=False, max_iter=10000, random_state=0): 79.72%\n",
            "Accuracy test LinearSVC(dual=False, max_iter=10000, random_state=0): 77.25%\n",
            "\n",
            "Accuracy train DecisionTreeClassifier(random_state=0): 95.62%\n",
            "Accuracy test DecisionTreeClassifier(random_state=0): 74.38%\n",
            "\n",
            "Accuracy train MLPClassifier(max_iter=1000, random_state=0): 85.60%\n",
            "Accuracy test MLPClassifier(max_iter=1000, random_state=0): 77.44%\n",
            "\n",
            "Accuracy train GradientBoostingClassifier(random_state=0): 82.12%\n",
            "Accuracy test GradientBoostingClassifier(random_state=0): 78.59%\n",
            "\n",
            "Accuracy train RandomForestClassifier(random_state=0): 95.62%\n",
            "Accuracy test RandomForestClassifier(random_state=0): 77.12%\n",
            "\n",
            "[LibSVM]Accuracy train SVC(random_state=0, verbose=True): 81.83%\n",
            "Accuracy test SVC(random_state=0, verbose=True): 77.64%\n",
            "\n",
            "Accuracy train HistGradientBoostingClassifier(random_state=0): 86.48%\n",
            "Accuracy test HistGradientBoostingClassifier(random_state=0): 86.45%\n",
            "\n"
          ]
        }
      ]
    },
    {
      "cell_type": "markdown",
      "metadata": {
        "id": "m5VtOQvb7THd"
      },
      "source": [
        "####Linear SVC - Linear Support Vector Classifier"
      ]
    },
    {
      "cell_type": "code",
      "execution_count": null,
      "metadata": {
        "colab": {
          "base_uri": "https://localhost:8080/"
        },
        "id": "WksGqBrl8IsQ",
        "outputId": "f73ce1a7-d190-4cdb-84cb-28c84d3a4096"
      },
      "outputs": [
        {
          "output_type": "stream",
          "name": "stdout",
          "text": [
            "El GridSearchCV evalúa 28 alternativas diferentes\n"
          ]
        }
      ],
      "source": [
        "penalty = ['l1', 'l2']\n",
        "loss = ['hinge', 'squared_hinge']\n",
        "C = [0.001, 0.01, 0.1, 1, 10, 100, 1000]\n",
        "\n",
        "hiperparametros = {'penalty': penalty,\n",
        "                   'loss': loss,\n",
        "                   'C': C}\n",
        "                   \n",
        "print(f'El GridSearchCV evalúa {len(penalty)*len(loss)*len(C)} alternativas diferentes')"
      ]
    },
    {
      "cell_type": "code",
      "execution_count": null,
      "metadata": {
        "colab": {
          "base_uri": "https://localhost:8080/"
        },
        "id": "P9X6b8Up7ban",
        "outputId": "7bd88ef6-7ad6-429a-8fd5-7840974fa068"
      },
      "outputs": [
        {
          "output_type": "stream",
          "name": "stderr",
          "text": [
            "/usr/local/lib/python3.7/dist-packages/sklearn/model_selection/_validation.py:372: FitFailedWarning: \n",
            "70 fits failed out of a total of 140.\n",
            "The score on these train-test partitions for these parameters will be set to nan.\n",
            "If these failures are not expected, you can try to debug them by setting error_score='raise'.\n",
            "\n",
            "Below are more details about the failures:\n",
            "--------------------------------------------------------------------------------\n",
            "35 fits failed with the following error:\n",
            "Traceback (most recent call last):\n",
            "  File \"/usr/local/lib/python3.7/dist-packages/sklearn/model_selection/_validation.py\", line 680, in _fit_and_score\n",
            "    estimator.fit(X_train, y_train, **fit_params)\n",
            "  File \"/usr/local/lib/python3.7/dist-packages/sklearn/svm/_classes.py\", line 272, in fit\n",
            "    sample_weight=sample_weight,\n",
            "  File \"/usr/local/lib/python3.7/dist-packages/sklearn/svm/_base.py\", line 1185, in _fit_liblinear\n",
            "    solver_type = _get_liblinear_solver_type(multi_class, penalty, loss, dual)\n",
            "  File \"/usr/local/lib/python3.7/dist-packages/sklearn/svm/_base.py\", line 1026, in _get_liblinear_solver_type\n",
            "    % (error_string, penalty, loss, dual)\n",
            "ValueError: Unsupported set of arguments: The combination of penalty='l1' and loss='hinge' is not supported, Parameters: penalty='l1', loss='hinge', dual=False\n",
            "\n",
            "--------------------------------------------------------------------------------\n",
            "35 fits failed with the following error:\n",
            "Traceback (most recent call last):\n",
            "  File \"/usr/local/lib/python3.7/dist-packages/sklearn/model_selection/_validation.py\", line 680, in _fit_and_score\n",
            "    estimator.fit(X_train, y_train, **fit_params)\n",
            "  File \"/usr/local/lib/python3.7/dist-packages/sklearn/svm/_classes.py\", line 272, in fit\n",
            "    sample_weight=sample_weight,\n",
            "  File \"/usr/local/lib/python3.7/dist-packages/sklearn/svm/_base.py\", line 1185, in _fit_liblinear\n",
            "    solver_type = _get_liblinear_solver_type(multi_class, penalty, loss, dual)\n",
            "  File \"/usr/local/lib/python3.7/dist-packages/sklearn/svm/_base.py\", line 1026, in _get_liblinear_solver_type\n",
            "    % (error_string, penalty, loss, dual)\n",
            "ValueError: Unsupported set of arguments: The combination of penalty='l2' and loss='hinge' are not supported when dual=False, Parameters: penalty='l2', loss='hinge', dual=False\n",
            "\n",
            "  warnings.warn(some_fits_failed_message, FitFailedWarning)\n",
            "/usr/local/lib/python3.7/dist-packages/sklearn/model_selection/_search.py:972: UserWarning: One or more of the test scores are non-finite: [       nan        nan 0.75239927 0.78116086        nan        nan\n",
            " 0.78972496 0.79100324        nan        nan 0.78998023 0.78985235\n",
            "        nan        nan 0.79023598 0.79074724        nan        nan\n",
            " 0.79087504 0.79087504        nan        nan 0.79087504 0.79087504\n",
            "        nan        nan 0.79087504 0.79087504]\n",
            "  category=UserWarning,\n"
          ]
        },
        {
          "output_type": "execute_result",
          "data": {
            "text/plain": [
              "GridSearchCV(cv=5,\n",
              "             estimator=LinearSVC(dual=False, max_iter=10000, random_state=0),\n",
              "             n_jobs=-1,\n",
              "             param_grid={'C': [0.001, 0.01, 0.1, 1, 10, 100, 1000],\n",
              "                         'loss': ['hinge', 'squared_hinge'],\n",
              "                         'penalty': ['l1', 'l2']},\n",
              "             scoring='accuracy')"
            ]
          },
          "metadata": {},
          "execution_count": 179
        }
      ],
      "source": [
        "LSVC_Grid = GridSearchCV(model_LSVC, hiperparametros, refit=True, cv=5, scoring='accuracy', n_jobs=-1)\n",
        "LSVC_Grid.fit(X_train,y_train)"
      ]
    },
    {
      "cell_type": "code",
      "execution_count": null,
      "metadata": {
        "colab": {
          "base_uri": "https://localhost:8080/"
        },
        "id": "xF14XZVUDgpq",
        "outputId": "742bbbe7-cbda-4d5a-ae4f-c39385ad14b4"
      },
      "outputs": [
        {
          "output_type": "stream",
          "name": "stdout",
          "text": [
            "Los mejores hiperparámetros son:\n"
          ]
        },
        {
          "output_type": "execute_result",
          "data": {
            "text/plain": [
              "{'C': 0.01, 'loss': 'squared_hinge', 'penalty': 'l2'}"
            ]
          },
          "metadata": {},
          "execution_count": 180
        }
      ],
      "source": [
        "print('Los mejores hiperparámetros son:')\n",
        "LSVC_Grid.best_params_"
      ]
    },
    {
      "cell_type": "code",
      "execution_count": null,
      "metadata": {
        "colab": {
          "base_uri": "https://localhost:8080/"
        },
        "id": "ViXcx4cJDgpq",
        "outputId": "b8c08c29-71bf-4366-ba76-7f2f3311b39b"
      },
      "outputs": [
        {
          "output_type": "stream",
          "name": "stdout",
          "text": [
            "El accuracy del mejor modelo es 0.791\n"
          ]
        }
      ],
      "source": [
        "max_accuracy = np.nanmax(LSVC_Grid.cv_results_['mean_test_score'])\n",
        "print(f'El accuracy del mejor modelo es {max_accuracy:.04}')\n",
        "mean_fit_time = LSVC_Grid.cv_results_['mean_fit_time']"
      ]
    },
    {
      "cell_type": "code",
      "execution_count": null,
      "metadata": {
        "id": "mWGjFcVeHw4A"
      },
      "outputs": [],
      "source": [
        "Resultados[\"Linear SVC\"] = {\n",
        "    'model': model_LSVC,\n",
        "    'accuracy': max_accuracy,\n",
        "    'best_params': LSVC_Grid.best_params_,\n",
        "    'total_fit_time': sum(LSVC_Grid.cv_results_['mean_fit_time'])\n",
        "    }"
      ]
    },
    {
      "cell_type": "markdown",
      "metadata": {
        "id": "oi695V2qiM1P"
      },
      "source": [
        "#### SVM - Support Vector Machine"
      ]
    },
    {
      "cell_type": "code",
      "execution_count": null,
      "metadata": {
        "id": "ZxldQFSahD7R",
        "colab": {
          "base_uri": "https://localhost:8080/"
        },
        "outputId": "769a39fe-c7b7-4a8b-ff50-d378611badf0"
      },
      "outputs": [
        {
          "output_type": "stream",
          "name": "stdout",
          "text": [
            "El GridSearchCV evalúa 45 alternativas diferentes\n"
          ]
        }
      ],
      "source": [
        "C = [0.1, 1, 10]\n",
        "kernel = ['poly', 'rbf', 'sigmoid']\n",
        "degree = [2, 3, 4, 5, 6]\n",
        "\n",
        "hiperparametros = {\n",
        "    'C': C,\n",
        "    'kernel': kernel,\n",
        "    'degree': degree\n",
        "    }\n",
        "                   \n",
        "print(f'El GridSearchCV evalúa {len(C)*len(kernel)*len(degree)} alternativas diferentes')"
      ]
    },
    {
      "cell_type": "code",
      "execution_count": null,
      "metadata": {
        "id": "EwoWLwJLLjcv",
        "colab": {
          "base_uri": "https://localhost:8080/"
        },
        "outputId": "7b2d8962-f115-43a5-b473-cf135fda0dac"
      },
      "outputs": [
        {
          "output_type": "stream",
          "name": "stdout",
          "text": [
            "[LibSVM]"
          ]
        },
        {
          "output_type": "execute_result",
          "data": {
            "text/plain": [
              "GridSearchCV(cv=5, estimator=SVC(random_state=0, verbose=True), n_jobs=-1,\n",
              "             param_grid={'C': [0.1, 1, 10], 'degree': [2, 3, 4, 5, 6],\n",
              "                         'kernel': ['poly', 'rbf', 'sigmoid']},\n",
              "             scoring='accuracy')"
            ]
          },
          "metadata": {},
          "execution_count": 184
        }
      ],
      "source": [
        "SVC_Grid = GridSearchCV(model_SVC, hiperparametros, refit=True, cv=5, scoring='accuracy', n_jobs=-1)\n",
        "SVC_Grid.fit(X_train,y_train)"
      ]
    },
    {
      "cell_type": "code",
      "execution_count": null,
      "metadata": {
        "id": "vvW5x5WfNL3S",
        "colab": {
          "base_uri": "https://localhost:8080/"
        },
        "outputId": "dc45ad4e-27bd-47f4-be30-45546bd2d45d"
      },
      "outputs": [
        {
          "output_type": "stream",
          "name": "stdout",
          "text": [
            "Los mejores hiperparámetros son:\n"
          ]
        },
        {
          "output_type": "execute_result",
          "data": {
            "text/plain": [
              "{'C': 10, 'degree': 2, 'kernel': 'rbf'}"
            ]
          },
          "metadata": {},
          "execution_count": 185
        }
      ],
      "source": [
        "print('Los mejores hiperparámetros son:')\n",
        "SVC_Grid.best_params_"
      ]
    },
    {
      "cell_type": "code",
      "execution_count": null,
      "metadata": {
        "id": "jf7jAGg3NL3T",
        "colab": {
          "base_uri": "https://localhost:8080/"
        },
        "outputId": "35706ffc-2719-4bfb-c96b-1dece610d1c6"
      },
      "outputs": [
        {
          "output_type": "stream",
          "name": "stdout",
          "text": [
            "El accuracy del mejor modelo es 0.7953\n"
          ]
        }
      ],
      "source": [
        "max_accuracy = np.nanmax(SVC_Grid.cv_results_['mean_test_score'])\n",
        "print(f'El accuracy del mejor modelo es {max_accuracy:.04}')\n",
        "mean_fit_time = SVC_Grid.cv_results_['mean_fit_time']"
      ]
    },
    {
      "cell_type": "code",
      "execution_count": null,
      "metadata": {
        "id": "KCQPq9LfMo2m"
      },
      "outputs": [],
      "source": [
        "Resultados[\"SVC\"] = {\n",
        "    'model': model_SVC,\n",
        "    'accuracy': max_accuracy,\n",
        "    'best_params': SVC_Grid.best_params_,\n",
        "    'total_fit_time': sum(SVC_Grid.cv_results_['mean_fit_time'])\n",
        "    }"
      ]
    },
    {
      "cell_type": "markdown",
      "metadata": {
        "id": "mApQ9MdRcsHT"
      },
      "source": [
        "#### DTC - Decision Tree Classifier"
      ]
    },
    {
      "cell_type": "code",
      "execution_count": null,
      "metadata": {
        "colab": {
          "base_uri": "https://localhost:8080/"
        },
        "id": "9fbIaos-eVJY",
        "outputId": "34b79ac9-b4e6-45a5-f0fe-792f32b41ac0"
      },
      "outputs": [
        {
          "output_type": "stream",
          "name": "stdout",
          "text": [
            "El GridSearchCV evalúa 36 alternativas diferentes\n"
          ]
        }
      ],
      "source": [
        "criterion = ['gini', 'entropy', 'log_loss']\n",
        "splitter = ['best', 'random']\n",
        "max_depth = [6,8,9,10,12,15] \n",
        "#min_samples_split = \n",
        "#min_samples_leaf = \n",
        "\n",
        "hiperparametros = {\n",
        "    'criterion': criterion,\n",
        "    'splitter': splitter,\n",
        "    'max_depth': max_depth\n",
        "    }\n",
        "                   \n",
        "print(f'El GridSearchCV evalúa {len(criterion)*len(splitter)*len(max_depth)} alternativas diferentes')"
      ]
    },
    {
      "cell_type": "code",
      "execution_count": null,
      "metadata": {
        "colab": {
          "base_uri": "https://localhost:8080/"
        },
        "id": "3yyFntT-4-zy",
        "outputId": "59ad3b5c-8f41-4f1c-9964-baab702f567c"
      },
      "outputs": [
        {
          "output_type": "stream",
          "name": "stderr",
          "text": [
            "/usr/local/lib/python3.7/dist-packages/sklearn/model_selection/_validation.py:372: FitFailedWarning: \n",
            "60 fits failed out of a total of 180.\n",
            "The score on these train-test partitions for these parameters will be set to nan.\n",
            "If these failures are not expected, you can try to debug them by setting error_score='raise'.\n",
            "\n",
            "Below are more details about the failures:\n",
            "--------------------------------------------------------------------------------\n",
            "60 fits failed with the following error:\n",
            "Traceback (most recent call last):\n",
            "  File \"/usr/local/lib/python3.7/dist-packages/sklearn/model_selection/_validation.py\", line 680, in _fit_and_score\n",
            "    estimator.fit(X_train, y_train, **fit_params)\n",
            "  File \"/usr/local/lib/python3.7/dist-packages/sklearn/tree/_classes.py\", line 942, in fit\n",
            "    X_idx_sorted=X_idx_sorted,\n",
            "  File \"/usr/local/lib/python3.7/dist-packages/sklearn/tree/_classes.py\", line 352, in fit\n",
            "    criterion = CRITERIA_CLF[self.criterion](\n",
            "KeyError: 'log_loss'\n",
            "\n",
            "  warnings.warn(some_fits_failed_message, FitFailedWarning)\n",
            "/usr/local/lib/python3.7/dist-packages/sklearn/model_selection/_search.py:972: UserWarning: One or more of the test scores are non-finite: [0.77630235 0.73412018 0.77528178 0.75840558 0.76952837 0.75674375\n",
            " 0.76415956 0.7670951  0.76275136 0.76671531 0.7497114  0.75763897\n",
            " 0.77169999 0.74255853 0.77617406 0.75188572 0.7770692  0.75955827\n",
            " 0.77067763 0.76735494 0.7627512  0.77080697 0.75469771 0.76313418\n",
            "        nan        nan        nan        nan        nan        nan\n",
            "        nan        nan        nan        nan        nan        nan]\n",
            "  category=UserWarning,\n"
          ]
        },
        {
          "output_type": "execute_result",
          "data": {
            "text/plain": [
              "GridSearchCV(cv=5, estimator=DecisionTreeClassifier(random_state=0), n_jobs=-1,\n",
              "             param_grid={'criterion': ['gini', 'entropy', 'log_loss'],\n",
              "                         'max_depth': [6, 8, 9, 10, 12, 15],\n",
              "                         'splitter': ['best', 'random']},\n",
              "             scoring='accuracy')"
            ]
          },
          "metadata": {},
          "execution_count": 189
        }
      ],
      "source": [
        "DTC_Grid = GridSearchCV(model_DTC, hiperparametros, refit=True, cv=5, scoring='accuracy', n_jobs=-1)\n",
        "DTC_Grid.fit(X_train,y_train)"
      ]
    },
    {
      "cell_type": "code",
      "execution_count": null,
      "metadata": {
        "colab": {
          "base_uri": "https://localhost:8080/"
        },
        "id": "XFIr53UfhTYq",
        "outputId": "a076f82e-b53e-4cd1-92e9-2fd35284b2e3"
      },
      "outputs": [
        {
          "output_type": "stream",
          "name": "stdout",
          "text": [
            "Los mejores hiperparámetros son:\n"
          ]
        },
        {
          "output_type": "execute_result",
          "data": {
            "text/plain": [
              "{'criterion': 'entropy', 'max_depth': 9, 'splitter': 'best'}"
            ]
          },
          "metadata": {},
          "execution_count": 190
        }
      ],
      "source": [
        "print('Los mejores hiperparámetros son:')\n",
        "DTC_Grid.best_params_"
      ]
    },
    {
      "cell_type": "code",
      "execution_count": null,
      "metadata": {
        "colab": {
          "base_uri": "https://localhost:8080/"
        },
        "id": "2FPZmFGXhTYq",
        "outputId": "c23e9e4b-6d66-4e0c-9ec7-1f09269ffe12"
      },
      "outputs": [
        {
          "output_type": "stream",
          "name": "stdout",
          "text": [
            "El accuracy del mejor modelo es 0.7771\n"
          ]
        }
      ],
      "source": [
        "max_accuracy = np.nanmax(DTC_Grid.cv_results_['mean_test_score'])\n",
        "print(f'El accuracy del mejor modelo es {max_accuracy:.04}')\n",
        "mean_fit_time = DTC_Grid.cv_results_['mean_fit_time']"
      ]
    },
    {
      "cell_type": "code",
      "execution_count": null,
      "metadata": {
        "id": "pYH_RArVhTYq"
      },
      "outputs": [],
      "source": [
        "Resultados[\"DTC\"] = {\n",
        "    'model': model_DTC,\n",
        "    'accuracy': max_accuracy,\n",
        "    'best_params': DTC_Grid.best_params_,\n",
        "    'total_fit_time': sum(DTC_Grid.cv_results_['mean_fit_time'])\n",
        "    }"
      ]
    },
    {
      "cell_type": "markdown",
      "metadata": {
        "id": "g156qSgqvvim"
      },
      "source": [
        "####MLP - Multi-layer Perceptron classifier"
      ]
    },
    {
      "cell_type": "code",
      "execution_count": null,
      "metadata": {
        "colab": {
          "base_uri": "https://localhost:8080/"
        },
        "id": "WyxNdt9XgS44",
        "outputId": "f164ab37-21a4-4faa-b6a7-8d4e37b90bdd"
      },
      "outputs": [
        {
          "output_type": "stream",
          "name": "stdout",
          "text": [
            "El GridSearchCV evalúa 90 alternativas diferentes\n"
          ]
        }
      ],
      "source": [
        "solver = ['sgd','adam']\n",
        "alpha = [0.001, 0.01, 0.1]\n",
        "hidden_layer_sizes = [(10,),(32,),(48,),(64,),(72,)]\n",
        "activation = ['logistic','tanh','relu']\n",
        "\n",
        "hiperparametros = {\n",
        "    #'solver': solver,\n",
        "    #'alpha': alpha,\n",
        "    'hidden_layer_sizes': hidden_layer_sizes,\n",
        "    'activation': activation\n",
        "    }\n",
        "                   \n",
        "print(f'El GridSearchCV evalúa {len(solver)*len(alpha)*len(hidden_layer_sizes)*len(activation)} alternativas diferentes')"
      ]
    },
    {
      "cell_type": "code",
      "execution_count": null,
      "metadata": {
        "colab": {
          "base_uri": "https://localhost:8080/"
        },
        "id": "7lA2ThFygS2P",
        "outputId": "94fd2fdd-9400-4783-e57a-90331ee784a8"
      },
      "outputs": [
        {
          "output_type": "execute_result",
          "data": {
            "text/plain": [
              "GridSearchCV(cv=5, estimator=MLPClassifier(max_iter=1000, random_state=0),\n",
              "             n_jobs=-1,\n",
              "             param_grid={'activation': ['logistic', 'tanh', 'relu'],\n",
              "                         'hidden_layer_sizes': [(10,), (32,), (48,), (64,),\n",
              "                                                (72,)]},\n",
              "             scoring='accuracy')"
            ]
          },
          "metadata": {},
          "execution_count": 194
        }
      ],
      "source": [
        "MLP_Grid = GridSearchCV(model_MLP, hiperparametros, refit=True, cv=5, scoring='accuracy', n_jobs=-1)\n",
        "MLP_Grid.fit(X_train,y_train)"
      ]
    },
    {
      "cell_type": "code",
      "execution_count": null,
      "metadata": {
        "colab": {
          "base_uri": "https://localhost:8080/"
        },
        "id": "it95CBDPWtoC",
        "outputId": "4a7237cd-8ece-419e-f8cc-6e0844e0fdad"
      },
      "outputs": [
        {
          "output_type": "stream",
          "name": "stdout",
          "text": [
            "Los mejores hiperparámetros son:\n"
          ]
        },
        {
          "output_type": "execute_result",
          "data": {
            "text/plain": [
              "{'activation': 'relu', 'hidden_layer_sizes': (32,)}"
            ]
          },
          "metadata": {},
          "execution_count": 195
        }
      ],
      "source": [
        "print('Los mejores hiperparámetros son:')\n",
        "MLP_Grid.best_params_"
      ]
    },
    {
      "cell_type": "code",
      "execution_count": null,
      "metadata": {
        "colab": {
          "base_uri": "https://localhost:8080/"
        },
        "id": "EYAkIbddWtoC",
        "outputId": "1bcbc455-559d-4e6f-ae31-bd73cb164d09"
      },
      "outputs": [
        {
          "output_type": "stream",
          "name": "stdout",
          "text": [
            "El accuracy del mejor modelo es 0.8005\n"
          ]
        }
      ],
      "source": [
        "max_accuracy = np.nanmax(MLP_Grid.cv_results_['mean_test_score'])\n",
        "print(f'El accuracy del mejor modelo es {max_accuracy:.04}')\n",
        "mean_fit_time = MLP_Grid.cv_results_['mean_fit_time']"
      ]
    },
    {
      "cell_type": "code",
      "execution_count": null,
      "metadata": {
        "id": "rHG5fH2oWtoD"
      },
      "outputs": [],
      "source": [
        "Resultados[\"MLP\"] = {\n",
        "    'model': model_MLP,\n",
        "    'accuracy': max_accuracy,\n",
        "    'best_params': MLP_Grid.best_params_,\n",
        "    'total_fit_time': sum(MLP_Grid.cv_results_['mean_fit_time'])\n",
        "    }"
      ]
    },
    {
      "cell_type": "markdown",
      "metadata": {
        "id": "x8nqzf38ni3C"
      },
      "source": [
        "#### GBC - Gradient Boosting Classifier"
      ]
    },
    {
      "cell_type": "code",
      "execution_count": null,
      "metadata": {
        "id": "VhIzuYw1o9ti",
        "colab": {
          "base_uri": "https://localhost:8080/"
        },
        "outputId": "33e8645c-91e9-4d48-c65d-2abb95ad7001"
      },
      "outputs": [
        {
          "output_type": "stream",
          "name": "stdout",
          "text": [
            "El GridSearchCV evalúa 216 alternativas diferentes\n"
          ]
        }
      ],
      "source": [
        "loss = ['log_loss', 'exponential']\n",
        "learning_rate = [0.1, 0.110, 0.115]\n",
        "n_estimators = [86,87,88,89]\n",
        "criterion = ['friedman_mse', 'squared_error', 'mse']\n",
        "max_depth = [3,4,5] \n",
        "\n",
        "hiperparametros = {\n",
        "    'loss': loss,\n",
        "    'learning_rate': learning_rate,\n",
        "    'n_estimators': n_estimators,\n",
        "    'criterion': criterion,\n",
        "    'max_depth': max_depth\n",
        "    }\n",
        "                   \n",
        "print(f'El GridSearchCV evalúa {len(loss)*len(learning_rate)*len(n_estimators)*len(criterion)*len(max_depth)} alternativas diferentes')"
      ]
    },
    {
      "cell_type": "code",
      "execution_count": null,
      "metadata": {
        "id": "RV3pcC5Ho9ql",
        "colab": {
          "base_uri": "https://localhost:8080/"
        },
        "outputId": "5aabc8a6-b454-427c-a03e-3967f9d49c94"
      },
      "outputs": [
        {
          "output_type": "stream",
          "name": "stderr",
          "text": [
            "/usr/local/lib/python3.7/dist-packages/sklearn/model_selection/_validation.py:372: FitFailedWarning: \n",
            "540 fits failed out of a total of 1080.\n",
            "The score on these train-test partitions for these parameters will be set to nan.\n",
            "If these failures are not expected, you can try to debug them by setting error_score='raise'.\n",
            "\n",
            "Below are more details about the failures:\n",
            "--------------------------------------------------------------------------------\n",
            "540 fits failed with the following error:\n",
            "Traceback (most recent call last):\n",
            "  File \"/usr/local/lib/python3.7/dist-packages/sklearn/model_selection/_validation.py\", line 680, in _fit_and_score\n",
            "    estimator.fit(X_train, y_train, **fit_params)\n",
            "  File \"/usr/local/lib/python3.7/dist-packages/sklearn/ensemble/_gb.py\", line 525, in fit\n",
            "    self._check_params()\n",
            "  File \"/usr/local/lib/python3.7/dist-packages/sklearn/ensemble/_gb.py\", line 282, in _check_params\n",
            "    raise ValueError(\"Loss '{0:s}' not supported. \".format(self.loss))\n",
            "ValueError: Loss 'log_loss' not supported. \n",
            "\n",
            "  warnings.warn(some_fits_failed_message, FitFailedWarning)\n",
            "/usr/local/lib/python3.7/dist-packages/sklearn/model_selection/_search.py:972: UserWarning: One or more of the test scores are non-finite: [       nan        nan        nan        nan        nan        nan\n",
            "        nan        nan        nan        nan        nan        nan\n",
            " 0.80071897 0.80110236 0.80097448 0.80161346 0.80327537 0.80327537\n",
            " 0.80301962 0.80365876 0.80327554 0.80340317 0.80353113 0.80340325\n",
            "        nan        nan        nan        nan        nan        nan\n",
            "        nan        nan        nan        nan        nan        nan\n",
            " 0.80186938 0.80122999 0.80110228 0.80097432 0.8021253  0.80186979\n",
            " 0.80212554 0.80186987 0.80161362 0.80186938 0.80135811 0.80123032\n",
            "        nan        nan        nan        nan        nan        nan\n",
            "        nan        nan        nan        nan        nan        nan\n",
            " 0.80161346 0.80135779 0.80135787 0.80135795 0.80289215 0.8018693\n",
            " 0.80174158 0.80186946 0.80135779 0.80135787 0.80110228 0.80097415\n",
            "        nan        nan        nan        nan        nan        nan\n",
            "        nan        nan        nan        nan        nan        nan\n",
            " 0.80071897 0.80110236 0.80097448 0.80161346 0.80327537 0.80314758\n",
            " 0.80301962 0.80353096 0.80340341 0.80353105 0.803659   0.80353113\n",
            "        nan        nan        nan        nan        nan        nan\n",
            "        nan        nan        nan        nan        nan        nan\n",
            " 0.80186938 0.80122999 0.80110228 0.80097432 0.8021253  0.80186979\n",
            " 0.80212554 0.80186987 0.80161362 0.80186938 0.80135811 0.80123032\n",
            "        nan        nan        nan        nan        nan        nan\n",
            "        nan        nan        nan        nan        nan        nan\n",
            " 0.80161346 0.80135779 0.80135787 0.80135795 0.80289215 0.8018693\n",
            " 0.80174158 0.80186946 0.80161346 0.80161354 0.80135795 0.80122983\n",
            "        nan        nan        nan        nan        nan        nan\n",
            "        nan        nan        nan        nan        nan        nan\n",
            " 0.80071897 0.80110236 0.80097448 0.80161346 0.80327537 0.80314758\n",
            " 0.80301962 0.80353096 0.80340341 0.80353105 0.803659   0.80353113\n",
            "        nan        nan        nan        nan        nan        nan\n",
            "        nan        nan        nan        nan        nan        nan\n",
            " 0.80186938 0.80122999 0.80110228 0.80097432 0.8021253  0.80186979\n",
            " 0.80212554 0.80186987 0.80161362 0.80186938 0.80135811 0.80123032\n",
            "        nan        nan        nan        nan        nan        nan\n",
            "        nan        nan        nan        nan        nan        nan\n",
            " 0.80161346 0.80135779 0.80135787 0.80135795 0.80289215 0.8018693\n",
            " 0.80174158 0.80186946 0.80161346 0.80161354 0.80135795 0.80122983]\n",
            "  category=UserWarning,\n"
          ]
        },
        {
          "output_type": "execute_result",
          "data": {
            "text/plain": [
              "GridSearchCV(cv=5, estimator=GradientBoostingClassifier(random_state=0),\n",
              "             n_jobs=-1,\n",
              "             param_grid={'criterion': ['friedman_mse', 'squared_error', 'mse'],\n",
              "                         'learning_rate': [0.1, 0.11, 0.115],\n",
              "                         'loss': ['log_loss', 'exponential'],\n",
              "                         'max_depth': [3, 4, 5],\n",
              "                         'n_estimators': [86, 87, 88, 89]},\n",
              "             scoring='accuracy')"
            ]
          },
          "metadata": {},
          "execution_count": 199
        }
      ],
      "source": [
        "GBC_Grid = GridSearchCV(model_GBC, hiperparametros, refit=True, cv=5, scoring='accuracy', n_jobs=-1)\n",
        "GBC_Grid.fit(X_train,y_train)"
      ]
    },
    {
      "cell_type": "code",
      "execution_count": null,
      "metadata": {
        "id": "Jjfxhf5fIzd3",
        "colab": {
          "base_uri": "https://localhost:8080/"
        },
        "outputId": "6548defa-47a6-4873-eb4b-570977d76a56"
      },
      "outputs": [
        {
          "output_type": "stream",
          "name": "stdout",
          "text": [
            "Los mejores hiperparámetros son:\n"
          ]
        },
        {
          "output_type": "execute_result",
          "data": {
            "text/plain": [
              "{'criterion': 'squared_error',\n",
              " 'learning_rate': 0.1,\n",
              " 'loss': 'exponential',\n",
              " 'max_depth': 5,\n",
              " 'n_estimators': 88}"
            ]
          },
          "metadata": {},
          "execution_count": 200
        }
      ],
      "source": [
        "print('Los mejores hiperparámetros son:')\n",
        "GBC_Grid.best_params_"
      ]
    },
    {
      "cell_type": "code",
      "execution_count": null,
      "metadata": {
        "id": "mgpkVYJaIzeB",
        "colab": {
          "base_uri": "https://localhost:8080/"
        },
        "outputId": "3a55a395-1257-4549-f9bd-3e0f19d0e3fa"
      },
      "outputs": [
        {
          "output_type": "stream",
          "name": "stdout",
          "text": [
            "El accuracy del mejor modelo es 0.8037\n"
          ]
        }
      ],
      "source": [
        "max_accuracy = np.nanmax(GBC_Grid.cv_results_['mean_test_score'])\n",
        "print(f'El accuracy del mejor modelo es {max_accuracy:.04}')\n",
        "mean_fit_time = GBC_Grid.cv_results_['mean_fit_time']"
      ]
    },
    {
      "cell_type": "code",
      "execution_count": null,
      "metadata": {
        "id": "JIMul4MaIzeB"
      },
      "outputs": [],
      "source": [
        "Resultados[\"GBC\"] = {\n",
        "    'model': model_GBC,\n",
        "    'accuracy': max_accuracy,\n",
        "    'best_params': GBC_Grid.best_params_,\n",
        "    'total_fit_time': sum(GBC_Grid.cv_results_['mean_fit_time'])\n",
        "}"
      ]
    },
    {
      "cell_type": "markdown",
      "metadata": {
        "id": "qWJmH1gPvshy"
      },
      "source": [
        "####RFC - Random Forest Classifier"
      ]
    },
    {
      "cell_type": "code",
      "execution_count": null,
      "metadata": {
        "id": "L_WwrynbhEBD",
        "colab": {
          "base_uri": "https://localhost:8080/"
        },
        "outputId": "2ba17a50-7087-45dc-b9de-fd20e2f8108a"
      },
      "outputs": [
        {
          "output_type": "stream",
          "name": "stdout",
          "text": [
            "El GridSearchCV evalúa 90 alternativas diferentes\n"
          ]
        }
      ],
      "source": [
        "n_estimators = [200, 700]\n",
        "criterion = ['gini', 'entropy', 'log_loss']\n",
        "max_features = ['auto', 'sqrt', 'log2']\n",
        "max_depth = [5,6,7,8,9]\n",
        "\n",
        "hiperparametros = {\n",
        "    'n_estimators': n_estimators,\n",
        "    'criterion': criterion,\n",
        "    'max_features': max_features,\n",
        "    'max_depth': max_depth\n",
        "    }\n",
        "                   \n",
        "print(f'El GridSearchCV evalúa {len(n_estimators)*len(criterion)*len(max_features)*len(max_depth)} alternativas diferentes')"
      ]
    },
    {
      "cell_type": "code",
      "execution_count": null,
      "metadata": {
        "id": "NhIp9JsaWxP5",
        "colab": {
          "base_uri": "https://localhost:8080/"
        },
        "outputId": "d338030f-f2e1-4750-fef2-ecd959ce0fa7"
      },
      "outputs": [
        {
          "output_type": "stream",
          "name": "stderr",
          "text": [
            "/usr/local/lib/python3.7/dist-packages/sklearn/model_selection/_validation.py:372: FitFailedWarning: \n",
            "150 fits failed out of a total of 450.\n",
            "The score on these train-test partitions for these parameters will be set to nan.\n",
            "If these failures are not expected, you can try to debug them by setting error_score='raise'.\n",
            "\n",
            "Below are more details about the failures:\n",
            "--------------------------------------------------------------------------------\n",
            "150 fits failed with the following error:\n",
            "Traceback (most recent call last):\n",
            "  File \"/usr/local/lib/python3.7/dist-packages/sklearn/model_selection/_validation.py\", line 680, in _fit_and_score\n",
            "    estimator.fit(X_train, y_train, **fit_params)\n",
            "  File \"/usr/local/lib/python3.7/dist-packages/sklearn/ensemble/_forest.py\", line 467, in fit\n",
            "    for i, t in enumerate(trees)\n",
            "  File \"/usr/local/lib/python3.7/dist-packages/joblib/parallel.py\", line 1043, in __call__\n",
            "    if self.dispatch_one_batch(iterator):\n",
            "  File \"/usr/local/lib/python3.7/dist-packages/joblib/parallel.py\", line 861, in dispatch_one_batch\n",
            "    self._dispatch(tasks)\n",
            "  File \"/usr/local/lib/python3.7/dist-packages/joblib/parallel.py\", line 779, in _dispatch\n",
            "    job = self._backend.apply_async(batch, callback=cb)\n",
            "  File \"/usr/local/lib/python3.7/dist-packages/joblib/_parallel_backends.py\", line 208, in apply_async\n",
            "    result = ImmediateResult(func)\n",
            "  File \"/usr/local/lib/python3.7/dist-packages/joblib/_parallel_backends.py\", line 572, in __init__\n",
            "    self.results = batch()\n",
            "  File \"/usr/local/lib/python3.7/dist-packages/joblib/parallel.py\", line 263, in __call__\n",
            "    for func, args, kwargs in self.items]\n",
            "  File \"/usr/local/lib/python3.7/dist-packages/joblib/parallel.py\", line 263, in <listcomp>\n",
            "    for func, args, kwargs in self.items]\n",
            "  File \"/usr/local/lib/python3.7/dist-packages/sklearn/utils/fixes.py\", line 216, in __call__\n",
            "    return self.function(*args, **kwargs)\n",
            "  File \"/usr/local/lib/python3.7/dist-packages/sklearn/ensemble/_forest.py\", line 185, in _parallel_build_trees\n",
            "    tree.fit(X, y, sample_weight=curr_sample_weight, check_input=False)\n",
            "  File \"/usr/local/lib/python3.7/dist-packages/sklearn/tree/_classes.py\", line 942, in fit\n",
            "    X_idx_sorted=X_idx_sorted,\n",
            "  File \"/usr/local/lib/python3.7/dist-packages/sklearn/tree/_classes.py\", line 352, in fit\n",
            "    criterion = CRITERIA_CLF[self.criterion](\n",
            "KeyError: 'log_loss'\n",
            "\n",
            "  warnings.warn(some_fits_failed_message, FitFailedWarning)\n",
            "/usr/local/lib/python3.7/dist-packages/sklearn/model_selection/_search.py:972: UserWarning: One or more of the test scores are non-finite: [0.76658784 0.76543744 0.76658784 0.76543744 0.76658784 0.76543744\n",
            " 0.78116062 0.78128752 0.78116062 0.78128752 0.78116062 0.78128752\n",
            " 0.79049173 0.79100349 0.79049173 0.79100349 0.79049173 0.79100349\n",
            " 0.79662796 0.79496572 0.79662796 0.79496572 0.79662796 0.79496572\n",
            " 0.79739482 0.79803396 0.79739482 0.79803396 0.79739482 0.79803396\n",
            " 0.76479822 0.76275341 0.76479822 0.76275341 0.76479822 0.76275341\n",
            " 0.78090413 0.78013768 0.78090413 0.78013768 0.78090413 0.78013768\n",
            " 0.79125867 0.79049182 0.79125867 0.79049182 0.79125867 0.79049182\n",
            " 0.7957325  0.79701119 0.7957325  0.79701119 0.7957325  0.79701119\n",
            " 0.79803355 0.79803396 0.79803355 0.79803396 0.79803355 0.79803396\n",
            "        nan        nan        nan        nan        nan        nan\n",
            "        nan        nan        nan        nan        nan        nan\n",
            "        nan        nan        nan        nan        nan        nan\n",
            "        nan        nan        nan        nan        nan        nan\n",
            "        nan        nan        nan        nan        nan        nan]\n",
            "  category=UserWarning,\n"
          ]
        },
        {
          "output_type": "execute_result",
          "data": {
            "text/plain": [
              "GridSearchCV(cv=5, estimator=RandomForestClassifier(random_state=0), n_jobs=-1,\n",
              "             param_grid={'criterion': ['gini', 'entropy', 'log_loss'],\n",
              "                         'max_depth': [5, 6, 7, 8, 9],\n",
              "                         'max_features': ['auto', 'sqrt', 'log2'],\n",
              "                         'n_estimators': [200, 700]},\n",
              "             scoring='accuracy')"
            ]
          },
          "metadata": {},
          "execution_count": 204
        }
      ],
      "source": [
        "RFC_Grid = GridSearchCV(model_RFC, hiperparametros, refit=True, cv=5, scoring='accuracy', n_jobs=-1)\n",
        "RFC_Grid.fit(X_train,y_train)"
      ]
    },
    {
      "cell_type": "code",
      "execution_count": null,
      "metadata": {
        "id": "FROdDrc1YuaG",
        "colab": {
          "base_uri": "https://localhost:8080/"
        },
        "outputId": "ef66ba7d-3045-4870-b1d4-9af6f1b339b2"
      },
      "outputs": [
        {
          "output_type": "stream",
          "name": "stdout",
          "text": [
            "Los mejores hiperparámetros son:\n"
          ]
        },
        {
          "output_type": "execute_result",
          "data": {
            "text/plain": [
              "{'criterion': 'gini',\n",
              " 'max_depth': 9,\n",
              " 'max_features': 'auto',\n",
              " 'n_estimators': 700}"
            ]
          },
          "metadata": {},
          "execution_count": 205
        }
      ],
      "source": [
        "print('Los mejores hiperparámetros son:')\n",
        "RFC_Grid.best_params_"
      ]
    },
    {
      "cell_type": "code",
      "execution_count": null,
      "metadata": {
        "id": "tt8P2zTiYuaG",
        "colab": {
          "base_uri": "https://localhost:8080/"
        },
        "outputId": "5f802cf9-f6e6-40f3-c8a3-d4170cc4e315"
      },
      "outputs": [
        {
          "output_type": "stream",
          "name": "stdout",
          "text": [
            "El accuracy del mejor modelo es 0.798\n"
          ]
        }
      ],
      "source": [
        "max_accuracy = np.nanmax(RFC_Grid.cv_results_['mean_test_score'])\n",
        "print(f'El accuracy del mejor modelo es {max_accuracy:.04}')\n",
        "mean_fit_time = RFC_Grid.cv_results_['mean_fit_time']"
      ]
    },
    {
      "cell_type": "code",
      "source": [
        "Resultados[\"RFC\"] = {\n",
        "    'model': model_RFC,\n",
        "    'accuracy': max_accuracy,\n",
        "    'best_params': RFC_Grid.best_params_,\n",
        "    'total_fit_time': sum(RFC_Grid.cv_results_['mean_fit_time'])\n",
        "    }"
      ],
      "metadata": {
        "id": "dvkOGQdf20nd"
      },
      "execution_count": null,
      "outputs": []
    },
    {
      "cell_type": "markdown",
      "source": [
        "####HGBC - Histogram-based Gradient Boosting Classification Tree"
      ],
      "metadata": {
        "id": "j3Nu3ySCEJes"
      }
    },
    {
      "cell_type": "code",
      "execution_count": null,
      "metadata": {
        "colab": {
          "base_uri": "https://localhost:8080/"
        },
        "outputId": "1b4e0042-4748-45d2-f15e-69e45d36b3c2",
        "id": "U3UH5H8-DObW"
      },
      "outputs": [
        {
          "output_type": "stream",
          "name": "stdout",
          "text": [
            "El GridSearchCV evalúa 20 alternativas diferentes\n"
          ]
        }
      ],
      "source": [
        "learning_rate = [0.01, 0.1, 1, 10]\n",
        "max_leaf_nodes = [3,5,10,12,15]\n",
        "\n",
        "hiperparametros = {\n",
        "    'learning_rate': learning_rate,\n",
        "    'max_leaf_nodes': max_leaf_nodes\n",
        "    }\n",
        "                   \n",
        "print(f'El GridSearchCV evalúa {len(learning_rate)*len(max_leaf_nodes)} alternativas diferentes')"
      ]
    },
    {
      "cell_type": "code",
      "execution_count": null,
      "metadata": {
        "colab": {
          "base_uri": "https://localhost:8080/"
        },
        "outputId": "c0cd914d-5bb8-4911-d16a-aa67241507b8",
        "id": "ar0BfZYIDObX"
      },
      "outputs": [
        {
          "output_type": "execute_result",
          "data": {
            "text/plain": [
              "GridSearchCV(cv=5, estimator=HistGradientBoostingClassifier(random_state=0),\n",
              "             n_jobs=-1,\n",
              "             param_grid={'learning_rate': [0.01, 0.1, 1, 10],\n",
              "                         'max_leaf_nodes': [3, 5, 10, 12, 15]},\n",
              "             scoring='accuracy')"
            ]
          },
          "metadata": {},
          "execution_count": 209
        }
      ],
      "source": [
        "HGBC_Grid = GridSearchCV(model_HGBC, hiperparametros, refit=True, cv=5, scoring='accuracy', n_jobs=-1)\n",
        "HGBC_Grid.fit(X_train,y_train)"
      ]
    },
    {
      "cell_type": "code",
      "execution_count": null,
      "metadata": {
        "colab": {
          "base_uri": "https://localhost:8080/"
        },
        "outputId": "15d9fb6b-7a8b-44dc-efaa-263c240c2497",
        "id": "pX1-pGYpDObX"
      },
      "outputs": [
        {
          "output_type": "stream",
          "name": "stdout",
          "text": [
            "Los mejores hiperparámetros son:\n"
          ]
        },
        {
          "output_type": "execute_result",
          "data": {
            "text/plain": [
              "{'learning_rate': 0.1, 'max_leaf_nodes': 10}"
            ]
          },
          "metadata": {},
          "execution_count": 210
        }
      ],
      "source": [
        "print('Los mejores hiperparámetros son:')\n",
        "HGBC_Grid.best_params_"
      ]
    },
    {
      "cell_type": "code",
      "execution_count": null,
      "metadata": {
        "colab": {
          "base_uri": "https://localhost:8080/"
        },
        "outputId": "1df09b3e-8310-45ec-decf-dc784a7bb393",
        "id": "85Gte7z9DObX"
      },
      "outputs": [
        {
          "output_type": "stream",
          "name": "stdout",
          "text": [
            "El accuracy del mejor modelo es 0.8072\n"
          ]
        }
      ],
      "source": [
        "max_accuracy = np.nanmax(HGBC_Grid.cv_results_['mean_test_score'])\n",
        "print(f'El accuracy del mejor modelo es {max_accuracy:.04}')\n",
        "mean_fit_time = HGBC_Grid.cv_results_['mean_fit_time']"
      ]
    },
    {
      "cell_type": "code",
      "source": [
        "Resultados[\"HGBC\"] = {\n",
        "    'model': model_HGBC,\n",
        "    'accuracy': max_accuracy,\n",
        "    'best_params': HGBC_Grid.best_params_,\n",
        "    'total_fit_time': sum(HGBC_Grid.cv_results_['mean_fit_time'])\n",
        "    }"
      ],
      "metadata": {
        "id": "67qwScpfDObX"
      },
      "execution_count": null,
      "outputs": []
    },
    {
      "cell_type": "markdown",
      "source": [
        "####HGBC sin Imputar Missing Values"
      ],
      "metadata": {
        "id": "0Llrdsb7EvXy"
      }
    },
    {
      "cell_type": "code",
      "execution_count": null,
      "metadata": {
        "colab": {
          "base_uri": "https://localhost:8080/"
        },
        "outputId": "a82f48c2-970b-4671-e665-3ae3ba65f6ad",
        "id": "q6jJ4vlaE1Hp"
      },
      "outputs": [
        {
          "output_type": "stream",
          "name": "stdout",
          "text": [
            "El GridSearchCV evalúa 20 alternativas diferentes\n"
          ]
        }
      ],
      "source": [
        "learning_rate = [0.01, 0.1, 1, 10]\n",
        "max_leaf_nodes = [3,5,10,12,15]\n",
        "\n",
        "hiperparametros = {\n",
        "    'learning_rate': learning_rate,\n",
        "    'max_leaf_nodes': max_leaf_nodes\n",
        "    }\n",
        "                   \n",
        "print(f'El GridSearchCV evalúa {len(learning_rate)*len(max_leaf_nodes)} alternativas diferentes')"
      ]
    },
    {
      "cell_type": "code",
      "execution_count": null,
      "metadata": {
        "colab": {
          "base_uri": "https://localhost:8080/"
        },
        "outputId": "7b25d62b-45b4-47f9-a8c6-cee3da9f9bb0",
        "id": "OHemHec3E1Hq"
      },
      "outputs": [
        {
          "output_type": "execute_result",
          "data": {
            "text/plain": [
              "GridSearchCV(cv=5, estimator=HistGradientBoostingClassifier(random_state=0),\n",
              "             n_jobs=-1,\n",
              "             param_grid={'learning_rate': [0.01, 0.1, 1, 10],\n",
              "                         'max_leaf_nodes': [3, 5, 10, 12, 15]},\n",
              "             scoring='accuracy')"
            ]
          },
          "metadata": {},
          "execution_count": 214
        }
      ],
      "source": [
        "HGBC_with_NaN_Grid = GridSearchCV(model_HGBC, hiperparametros, refit=True, cv=5, scoring='accuracy', n_jobs=-1)\n",
        "HGBC_with_NaN_Grid.fit(X_train_with_NaN,y_train)"
      ]
    },
    {
      "cell_type": "code",
      "execution_count": null,
      "metadata": {
        "colab": {
          "base_uri": "https://localhost:8080/"
        },
        "outputId": "d79788e6-c10b-4acb-fd7d-40a3dd0b3d2f",
        "id": "pZTEEVw5E1Hq"
      },
      "outputs": [
        {
          "output_type": "stream",
          "name": "stdout",
          "text": [
            "Los mejores hiperparámetros son:\n"
          ]
        },
        {
          "output_type": "execute_result",
          "data": {
            "text/plain": [
              "{'learning_rate': 0.1, 'max_leaf_nodes': 10}"
            ]
          },
          "metadata": {},
          "execution_count": 215
        }
      ],
      "source": [
        "print('Los mejores hiperparámetros son:')\n",
        "HGBC_with_NaN_Grid.best_params_"
      ]
    },
    {
      "cell_type": "code",
      "execution_count": null,
      "metadata": {
        "colab": {
          "base_uri": "https://localhost:8080/"
        },
        "outputId": "fe6a860c-2eff-495f-bb92-dad781a36f01",
        "id": "FkDL7b62E1Hq"
      },
      "outputs": [
        {
          "output_type": "stream",
          "name": "stdout",
          "text": [
            "El accuracy del mejor modelo es 0.8081\n"
          ]
        }
      ],
      "source": [
        "max_accuracy = np.nanmax(HGBC_with_NaN_Grid.cv_results_['mean_test_score'])\n",
        "print(f'El accuracy del mejor modelo es {max_accuracy:.04}')\n",
        "mean_fit_time = HGBC_with_NaN_Grid.cv_results_['mean_fit_time']"
      ]
    },
    {
      "cell_type": "code",
      "source": [
        "Resultados[\"HGBC with NaN\"] = {\n",
        "    'model': model_HGBC,\n",
        "    'accuracy': max_accuracy,\n",
        "    'best_params': HGBC_with_NaN_Grid.best_params_,\n",
        "    'total_fit_time': sum(HGBC_with_NaN_Grid.cv_results_['mean_fit_time'])\n",
        "    }"
      ],
      "metadata": {
        "id": "Bzcx94awE1Hq"
      },
      "execution_count": null,
      "outputs": []
    },
    {
      "cell_type": "markdown",
      "source": [
        "## **Resultados**"
      ],
      "metadata": {
        "id": "uI3eNfj6Fljc"
      }
    },
    {
      "cell_type": "code",
      "execution_count": null,
      "metadata": {
        "colab": {
          "base_uri": "https://localhost:8080/",
          "height": 300
        },
        "id": "WJutnLgA-aEy",
        "outputId": "e33c496d-55cc-47ff-aeac-dc44abe89057"
      },
      "outputs": [
        {
          "output_type": "execute_result",
          "data": {
            "text/plain": [
              "                                                           model  accuracy  \\\n",
              "HGBC with NaN     HistGradientBoostingClassifier(random_state=0)  0.808133   \n",
              "HGBC              HistGradientBoostingClassifier(random_state=0)  0.807238   \n",
              "GBC            ([DecisionTreeRegressor(criterion='friedman_ms...  0.803659   \n",
              "MLP                 MLPClassifier(max_iter=1000, random_state=0)  0.800462   \n",
              "RFC            (DecisionTreeClassifier(max_features='auto', r...  0.798034   \n",
              "SVC                            SVC(random_state=0, verbose=True)  0.795348   \n",
              "Linear SVC     LinearSVC(dual=False, max_iter=10000, random_s...  0.791003   \n",
              "DTC                       DecisionTreeClassifier(random_state=0)  0.777069   \n",
              "\n",
              "                                                     best_params  \\\n",
              "HGBC with NaN       {'learning_rate': 0.1, 'max_leaf_nodes': 10}   \n",
              "HGBC                {'learning_rate': 0.1, 'max_leaf_nodes': 10}   \n",
              "GBC            {'criterion': 'squared_error', 'learning_rate'...   \n",
              "MLP            {'activation': 'relu', 'hidden_layer_sizes': (...   \n",
              "RFC            {'criterion': 'gini', 'max_depth': 9, 'max_fea...   \n",
              "SVC                      {'C': 10, 'degree': 2, 'kernel': 'rbf'}   \n",
              "Linear SVC     {'C': 0.01, 'loss': 'squared_hinge', 'penalty'...   \n",
              "DTC            {'criterion': 'entropy', 'max_depth': 9, 'spli...   \n",
              "\n",
              "              total_fit_time  \n",
              "HGBC with NaN        7.11224  \n",
              "HGBC                6.716133  \n",
              "GBC               175.748346  \n",
              "MLP               385.879309  \n",
              "RFC               195.687997  \n",
              "SVC               150.469546  \n",
              "Linear SVC          3.769319  \n",
              "DTC                 0.919157  "
            ],
            "text/html": [
              "\n",
              "  <div id=\"df-1a1b9967-01b2-4972-962d-80046facd73d\">\n",
              "    <div class=\"colab-df-container\">\n",
              "      <div>\n",
              "<style scoped>\n",
              "    .dataframe tbody tr th:only-of-type {\n",
              "        vertical-align: middle;\n",
              "    }\n",
              "\n",
              "    .dataframe tbody tr th {\n",
              "        vertical-align: top;\n",
              "    }\n",
              "\n",
              "    .dataframe thead th {\n",
              "        text-align: right;\n",
              "    }\n",
              "</style>\n",
              "<table border=\"1\" class=\"dataframe\">\n",
              "  <thead>\n",
              "    <tr style=\"text-align: right;\">\n",
              "      <th></th>\n",
              "      <th>model</th>\n",
              "      <th>accuracy</th>\n",
              "      <th>best_params</th>\n",
              "      <th>total_fit_time</th>\n",
              "    </tr>\n",
              "  </thead>\n",
              "  <tbody>\n",
              "    <tr>\n",
              "      <th>HGBC with NaN</th>\n",
              "      <td>HistGradientBoostingClassifier(random_state=0)</td>\n",
              "      <td>0.808133</td>\n",
              "      <td>{'learning_rate': 0.1, 'max_leaf_nodes': 10}</td>\n",
              "      <td>7.11224</td>\n",
              "    </tr>\n",
              "    <tr>\n",
              "      <th>HGBC</th>\n",
              "      <td>HistGradientBoostingClassifier(random_state=0)</td>\n",
              "      <td>0.807238</td>\n",
              "      <td>{'learning_rate': 0.1, 'max_leaf_nodes': 10}</td>\n",
              "      <td>6.716133</td>\n",
              "    </tr>\n",
              "    <tr>\n",
              "      <th>GBC</th>\n",
              "      <td>([DecisionTreeRegressor(criterion='friedman_ms...</td>\n",
              "      <td>0.803659</td>\n",
              "      <td>{'criterion': 'squared_error', 'learning_rate'...</td>\n",
              "      <td>175.748346</td>\n",
              "    </tr>\n",
              "    <tr>\n",
              "      <th>MLP</th>\n",
              "      <td>MLPClassifier(max_iter=1000, random_state=0)</td>\n",
              "      <td>0.800462</td>\n",
              "      <td>{'activation': 'relu', 'hidden_layer_sizes': (...</td>\n",
              "      <td>385.879309</td>\n",
              "    </tr>\n",
              "    <tr>\n",
              "      <th>RFC</th>\n",
              "      <td>(DecisionTreeClassifier(max_features='auto', r...</td>\n",
              "      <td>0.798034</td>\n",
              "      <td>{'criterion': 'gini', 'max_depth': 9, 'max_fea...</td>\n",
              "      <td>195.687997</td>\n",
              "    </tr>\n",
              "    <tr>\n",
              "      <th>SVC</th>\n",
              "      <td>SVC(random_state=0, verbose=True)</td>\n",
              "      <td>0.795348</td>\n",
              "      <td>{'C': 10, 'degree': 2, 'kernel': 'rbf'}</td>\n",
              "      <td>150.469546</td>\n",
              "    </tr>\n",
              "    <tr>\n",
              "      <th>Linear SVC</th>\n",
              "      <td>LinearSVC(dual=False, max_iter=10000, random_s...</td>\n",
              "      <td>0.791003</td>\n",
              "      <td>{'C': 0.01, 'loss': 'squared_hinge', 'penalty'...</td>\n",
              "      <td>3.769319</td>\n",
              "    </tr>\n",
              "    <tr>\n",
              "      <th>DTC</th>\n",
              "      <td>DecisionTreeClassifier(random_state=0)</td>\n",
              "      <td>0.777069</td>\n",
              "      <td>{'criterion': 'entropy', 'max_depth': 9, 'spli...</td>\n",
              "      <td>0.919157</td>\n",
              "    </tr>\n",
              "  </tbody>\n",
              "</table>\n",
              "</div>\n",
              "      <button class=\"colab-df-convert\" onclick=\"convertToInteractive('df-1a1b9967-01b2-4972-962d-80046facd73d')\"\n",
              "              title=\"Convert this dataframe to an interactive table.\"\n",
              "              style=\"display:none;\">\n",
              "        \n",
              "  <svg xmlns=\"http://www.w3.org/2000/svg\" height=\"24px\"viewBox=\"0 0 24 24\"\n",
              "       width=\"24px\">\n",
              "    <path d=\"M0 0h24v24H0V0z\" fill=\"none\"/>\n",
              "    <path d=\"M18.56 5.44l.94 2.06.94-2.06 2.06-.94-2.06-.94-.94-2.06-.94 2.06-2.06.94zm-11 1L8.5 8.5l.94-2.06 2.06-.94-2.06-.94L8.5 2.5l-.94 2.06-2.06.94zm10 10l.94 2.06.94-2.06 2.06-.94-2.06-.94-.94-2.06-.94 2.06-2.06.94z\"/><path d=\"M17.41 7.96l-1.37-1.37c-.4-.4-.92-.59-1.43-.59-.52 0-1.04.2-1.43.59L10.3 9.45l-7.72 7.72c-.78.78-.78 2.05 0 2.83L4 21.41c.39.39.9.59 1.41.59.51 0 1.02-.2 1.41-.59l7.78-7.78 2.81-2.81c.8-.78.8-2.07 0-2.86zM5.41 20L4 18.59l7.72-7.72 1.47 1.35L5.41 20z\"/>\n",
              "  </svg>\n",
              "      </button>\n",
              "      \n",
              "  <style>\n",
              "    .colab-df-container {\n",
              "      display:flex;\n",
              "      flex-wrap:wrap;\n",
              "      gap: 12px;\n",
              "    }\n",
              "\n",
              "    .colab-df-convert {\n",
              "      background-color: #E8F0FE;\n",
              "      border: none;\n",
              "      border-radius: 50%;\n",
              "      cursor: pointer;\n",
              "      display: none;\n",
              "      fill: #1967D2;\n",
              "      height: 32px;\n",
              "      padding: 0 0 0 0;\n",
              "      width: 32px;\n",
              "    }\n",
              "\n",
              "    .colab-df-convert:hover {\n",
              "      background-color: #E2EBFA;\n",
              "      box-shadow: 0px 1px 2px rgba(60, 64, 67, 0.3), 0px 1px 3px 1px rgba(60, 64, 67, 0.15);\n",
              "      fill: #174EA6;\n",
              "    }\n",
              "\n",
              "    [theme=dark] .colab-df-convert {\n",
              "      background-color: #3B4455;\n",
              "      fill: #D2E3FC;\n",
              "    }\n",
              "\n",
              "    [theme=dark] .colab-df-convert:hover {\n",
              "      background-color: #434B5C;\n",
              "      box-shadow: 0px 1px 3px 1px rgba(0, 0, 0, 0.15);\n",
              "      filter: drop-shadow(0px 1px 2px rgba(0, 0, 0, 0.3));\n",
              "      fill: #FFFFFF;\n",
              "    }\n",
              "  </style>\n",
              "\n",
              "      <script>\n",
              "        const buttonEl =\n",
              "          document.querySelector('#df-1a1b9967-01b2-4972-962d-80046facd73d button.colab-df-convert');\n",
              "        buttonEl.style.display =\n",
              "          google.colab.kernel.accessAllowed ? 'block' : 'none';\n",
              "\n",
              "        async function convertToInteractive(key) {\n",
              "          const element = document.querySelector('#df-1a1b9967-01b2-4972-962d-80046facd73d');\n",
              "          const dataTable =\n",
              "            await google.colab.kernel.invokeFunction('convertToInteractive',\n",
              "                                                     [key], {});\n",
              "          if (!dataTable) return;\n",
              "\n",
              "          const docLinkHtml = 'Like what you see? Visit the ' +\n",
              "            '<a target=\"_blank\" href=https://colab.research.google.com/notebooks/data_table.ipynb>data table notebook</a>'\n",
              "            + ' to learn more about interactive tables.';\n",
              "          element.innerHTML = '';\n",
              "          dataTable['output_type'] = 'display_data';\n",
              "          await google.colab.output.renderOutput(dataTable, element);\n",
              "          const docLink = document.createElement('div');\n",
              "          docLink.innerHTML = docLinkHtml;\n",
              "          element.appendChild(docLink);\n",
              "        }\n",
              "      </script>\n",
              "    </div>\n",
              "  </div>\n",
              "  "
            ]
          },
          "metadata": {},
          "execution_count": 218
        }
      ],
      "source": [
        "resultados_df = pd.DataFrame(Resultados).T\n",
        "resultados_df = resultados_df.sort_values(by=['accuracy'],ascending=False)\n",
        "resultados_df"
      ]
    },
    {
      "cell_type": "code",
      "source": [
        "# Imprimimos el mejor modelo:\n",
        "winner_model = resultados_df[0:1].index.values\n",
        "winner_model"
      ],
      "metadata": {
        "colab": {
          "base_uri": "https://localhost:8080/"
        },
        "id": "bo-nomzkWa3l",
        "outputId": "985aaf4e-e7a9-414d-ab45-7d2b0195dd98"
      },
      "execution_count": null,
      "outputs": [
        {
          "output_type": "execute_result",
          "data": {
            "text/plain": [
              "array(['HGBC with NaN'], dtype=object)"
            ]
          },
          "metadata": {},
          "execution_count": 219
        }
      ]
    },
    {
      "cell_type": "markdown",
      "metadata": {
        "id": "IMM65zuOhPJy"
      },
      "source": [
        "## **Testing**\n",
        "\n"
      ]
    },
    {
      "cell_type": "markdown",
      "source": [
        "####**Preparación del Conjunto de Testing**"
      ],
      "metadata": {
        "id": "dD1e5ArCIEZ5"
      }
    },
    {
      "cell_type": "code",
      "execution_count": null,
      "metadata": {
        "id": "6teWLkTbhaYB"
      },
      "outputs": [],
      "source": [
        "if dataset == 'kaggle':\n",
        "  url = 'https://drive.google.com/file/d/1Xk-4HX2T-2dtiQsZv_sEeVXxkn1XEA5V/view?usp=sharing'\n",
        "  path = 'https://drive.google.com/uc?export=download&id='+url.split('/')[-2]\n",
        "\n",
        "if dataset == 'diplodatos':\n",
        "  path = 'https://raw.githubusercontent.com/DiploDatos/AprendizajeSupervisado/master/Pr%C3%A1ctico/test.csv' ## Este es el set de datos de la materia\n",
        "\n",
        "df_test = pd.read_csv(path)"
      ]
    },
    {
      "cell_type": "code",
      "execution_count": null,
      "metadata": {
        "id": "U5RXNN-pulFd"
      },
      "outputs": [],
      "source": [
        "df_test[['Cabin_Deck','Cabin_Num','Cabin_Side']] = df_test.Cabin.str.split('/', expand=True)\n",
        "df_test.drop('Cabin', axis=1, inplace=True)"
      ]
    },
    {
      "cell_type": "code",
      "execution_count": null,
      "metadata": {
        "id": "XSCoK6z0ulFe"
      },
      "outputs": [],
      "source": [
        "df_test[['First_Name','Last_Name']] = df_test.Name.str.split(expand=True)\n",
        "df_test.drop('Name', axis=1, inplace=True)"
      ]
    },
    {
      "cell_type": "code",
      "execution_count": null,
      "metadata": {
        "colab": {
          "base_uri": "https://localhost:8080/",
          "height": 614
        },
        "id": "uvn3xRaJiGmc",
        "outputId": "11fa1c9a-a488-4ecb-af59-4defdb213f47"
      },
      "outputs": [
        {
          "output_type": "execute_result",
          "data": {
            "text/plain": [
              "<matplotlib.axes._subplots.AxesSubplot at 0x7f81ca738910>"
            ]
          },
          "metadata": {},
          "execution_count": 223
        },
        {
          "output_type": "display_data",
          "data": {
            "text/plain": [
              "<Figure size 1800x720 with 2 Axes>"
            ],
            "image/png": "[encoded data removed]"
          },
          "metadata": {
            "needs_background": "light"
          }
        }
      ],
      "source": [
        "matrix(df_test)"
      ]
    },
    {
      "cell_type": "code",
      "execution_count": null,
      "metadata": {
        "id": "2cEuECALvuL4"
      },
      "outputs": [],
      "source": [
        "# Aplicamos el pipeline según el modelo ganador\n",
        "if winner_model == 'HGBC with NaN':\n",
        "  final_df_test = full_pipeline_with_NaN.fit_transform(df_test)\n",
        "else:\n",
        "  final_df_test = full_pipeline.fit_transform(df_test)"
      ]
    },
    {
      "cell_type": "code",
      "execution_count": null,
      "metadata": {
        "id": "6tb1JwPKiKqS"
      },
      "outputs": [],
      "source": [
        "X_test = final_df_test.copy()"
      ]
    },
    {
      "cell_type": "markdown",
      "source": [
        "####**Predicción con el Mejor Modelo**"
      ],
      "metadata": {
        "id": "HDihvzAjHvuL"
      }
    },
    {
      "cell_type": "code",
      "source": [
        "best_model = Resultados[winner_model[0]]['model']\n",
        "best_params = Resultados[winner_model[0]]['best_params']\n",
        "\n",
        "best_model.set_params(**best_params)"
      ],
      "metadata": {
        "colab": {
          "base_uri": "https://localhost:8080/"
        },
        "id": "xfMzfPb_pNPj",
        "outputId": "fda76792-97f6-4443-cad8-c0749ed2b627"
      },
      "execution_count": null,
      "outputs": [
        {
          "output_type": "execute_result",
          "data": {
            "text/plain": [
              "HistGradientBoostingClassifier(max_leaf_nodes=10, random_state=0)"
            ]
          },
          "metadata": {},
          "execution_count": 226
        }
      ]
    },
    {
      "cell_type": "code",
      "execution_count": null,
      "metadata": {
        "colab": {
          "base_uri": "https://localhost:8080/"
        },
        "id": "_W6J9xB5g4RI",
        "outputId": "a17a56f2-3cb3-4224-e7ce-82714e1eb8f2"
      },
      "outputs": [
        {
          "output_type": "execute_result",
          "data": {
            "text/plain": [
              "array([1, 1, 0, 0, 1, 0, 0, 0, 0, 1, 1, 1, 1, 1, 0, 1, 0, 0, 0, 0, 0, 1,\n",
              "       0, 1, 0, 0, 0, 0, 0, 1, 0, 0, 0, 1, 0, 1, 0, 0, 1, 0, 0, 0, 0, 0,\n",
              "       0, 0, 1, 1, 0, 1, 1, 0, 0, 0, 0, 0, 0, 0, 1, 0, 1, 0, 0, 0, 0, 1,\n",
              "       0, 0, 0, 1, 1, 1, 0, 0, 0, 0, 0, 0, 1, 0, 1, 1, 1, 1, 1, 0, 1, 1,\n",
              "       1, 0, 1, 0, 0, 1, 0, 1, 1, 1, 0, 0, 0, 0, 0, 1, 0, 0, 1, 0, 1, 1,\n",
              "       0, 1, 0, 1, 1, 1, 1, 1, 1, 1, 0, 0, 0, 0, 1, 1, 1, 1, 0, 0, 0, 0,\n",
              "       0, 1, 0, 1, 0, 0, 1, 0, 1, 0, 0, 0, 1, 0, 1, 1, 0, 1, 0, 1, 0, 1,\n",
              "       1, 1, 0, 1, 1, 0, 1, 1, 1, 1, 1, 0, 0, 0, 0, 0, 0, 1, 1, 0, 0, 1,\n",
              "       0, 0, 1, 0, 1, 0, 0, 1, 1, 1, 0, 0, 0, 1, 0, 0, 0, 0, 0, 0, 0, 1,\n",
              "       1, 1, 0, 0, 1, 1, 1, 0, 0, 1, 0, 0, 1, 0, 1, 1, 0, 0, 1, 1, 1, 1,\n",
              "       0, 0, 1, 0, 1, 1, 0, 1, 0, 0, 0, 0, 0, 0, 0, 0, 0, 1, 0, 0, 1, 0,\n",
              "       0, 0, 0, 0, 1, 0, 0, 0, 0, 0, 0, 1, 0, 1, 1, 1, 1, 0, 0, 1, 0, 0,\n",
              "       0, 0, 0, 0, 0, 1, 0, 0, 1, 0, 0, 0, 0, 0, 1, 0, 1, 0, 0, 0, 0, 0,\n",
              "       0, 0, 0, 0, 1, 1, 1, 1, 0, 1, 0, 1, 0, 0, 1, 0, 1, 1, 0, 0, 0, 1,\n",
              "       1, 1, 1, 0, 1, 0, 0, 0, 1, 1, 0, 1, 0, 1, 0, 0, 1, 1, 0, 1, 1, 1,\n",
              "       0, 0, 1, 0, 1, 1, 1, 1, 1, 0, 0, 1, 0, 0, 1, 1, 0, 1, 0, 1, 1, 1,\n",
              "       1, 0, 0, 1, 1, 0, 0, 0, 0, 0, 1, 0, 0, 1, 1, 0, 0, 1, 1, 0, 1, 1,\n",
              "       1, 0, 1, 1, 1, 0, 0, 0, 1, 1, 0, 0, 1, 0, 1, 0, 1, 0, 0, 0, 0, 0,\n",
              "       0, 1, 1, 0, 0, 1, 0, 0, 1, 0, 1, 0, 0, 0, 0, 1, 0, 1, 0, 0, 0, 1,\n",
              "       0, 0, 0, 0, 1, 0, 0, 1, 1, 0, 0, 0, 0, 1, 0, 1, 1, 1, 0, 0, 1, 0,\n",
              "       0, 1, 0, 0, 1, 0, 0, 0, 0, 0, 0, 1, 1, 1, 1, 0, 0, 0, 1, 1, 1, 0,\n",
              "       1, 0, 0, 0, 1, 1, 0, 1, 0, 0, 1, 0, 1, 0, 0, 1, 1, 0, 1, 0, 1, 1,\n",
              "       1, 1, 1, 0, 1, 0, 1, 0, 0, 1, 1, 0, 0, 0, 1, 0, 0, 0, 1, 1, 1, 1,\n",
              "       1, 1, 0, 1, 1, 0, 1, 0, 0, 0, 0, 0, 0, 0, 1, 1, 0, 0, 0, 1, 1, 0,\n",
              "       1, 0, 1, 1, 1, 0, 0, 1, 1, 0, 0, 1, 1, 0, 0, 0, 0, 0, 1, 1, 0, 0,\n",
              "       0, 0, 1, 1, 1, 0, 1, 1, 0, 1, 0, 0, 0, 1, 1, 1, 0, 0, 0, 1, 1, 1,\n",
              "       0, 1, 0, 0, 1, 0, 0, 1, 1, 0, 0, 0, 1, 0, 0, 1, 1, 0, 1, 0, 1, 1,\n",
              "       1, 0, 0, 1, 0, 0, 1, 0, 0, 0, 1, 1, 1, 0, 0, 1, 0, 0, 1, 1, 1, 0,\n",
              "       0, 1, 1, 0, 1, 0, 0, 0, 0, 0, 0, 0, 1, 0, 1, 1, 0, 1, 0, 0, 0, 0,\n",
              "       0, 1, 1, 0, 1, 1, 0, 0, 0, 0, 0, 1, 0, 0, 1, 0, 0, 1, 0, 1, 1, 0,\n",
              "       0, 1, 0, 1, 1, 0, 1, 1, 0, 0, 0, 0, 1, 0, 1, 1, 0, 0, 1, 0, 1, 0,\n",
              "       0, 0, 0, 1, 0, 1, 0, 0, 0, 1, 0, 1, 0, 1, 1, 1, 1, 1, 0, 0, 0, 1,\n",
              "       1, 1, 1, 1, 1, 1, 0, 0, 1, 0, 1, 0, 1, 0, 0, 0, 0, 0, 1, 0, 1, 0,\n",
              "       0, 0, 0, 1, 0, 1, 1, 0, 1, 1, 1, 0, 0, 0, 0, 0, 1, 1, 1, 1, 0, 1,\n",
              "       1, 1, 1, 1, 1, 0, 1, 1, 0, 0, 1, 1, 0, 1, 0, 1, 0, 0, 0, 1, 0, 0,\n",
              "       0, 0, 0, 1, 1, 1, 0, 0, 0, 0, 0, 0, 0, 1, 0, 0, 1, 0, 1, 0, 1, 1,\n",
              "       0, 1, 1, 1, 1, 0, 0, 1, 0, 1, 1, 1, 0, 0, 0, 1, 0, 1, 1, 1, 1, 1,\n",
              "       0, 1, 0, 0, 0, 1, 1, 1, 0, 0, 1, 0, 0, 0, 1, 0, 0, 1, 1, 1, 1, 0,\n",
              "       0, 0, 0, 0, 0, 1, 0, 0, 1, 0, 0, 0, 1, 1, 0, 1, 0, 1, 1, 0, 0, 1,\n",
              "       1, 1, 0, 0, 1, 0, 0, 0, 1, 1, 0, 0])"
            ]
          },
          "metadata": {},
          "execution_count": 227
        }
      ],
      "source": [
        "y_predicted = best_model.predict(X_test)\n",
        "y_predicted"
      ]
    },
    {
      "cell_type": "code",
      "execution_count": null,
      "metadata": {
        "id": "wu2-CXSeuUeX"
      },
      "outputs": [],
      "source": [
        "PassengerId = df_test['PassengerId']"
      ]
    },
    {
      "cell_type": "code",
      "execution_count": null,
      "metadata": {
        "colab": {
          "base_uri": "https://localhost:8080/"
        },
        "id": "qjqK3_d_taGx",
        "outputId": "567aa438-cfe5-4946-dda4-1388ac841dba"
      },
      "outputs": [
        {
          "output_type": "execute_result",
          "data": {
            "text/plain": [
              "PassengerId    string\n",
              "Transported     int64\n",
              "dtype: object"
            ]
          },
          "metadata": {},
          "execution_count": 229
        }
      ],
      "source": [
        "# Creación del resultado para subir a Kaggle / Para el concurso de Kaggle\n",
        "test_id = PassengerId\n",
        "submission = pd.DataFrame(list(zip(test_id, y_predicted)), columns=[\"PassengerId\", \"Transported\"])\n",
        "submission['PassengerId'] = submission['PassengerId'].astype('string')\n",
        "submission.dtypes"
      ]
    },
    {
      "cell_type": "code",
      "execution_count": null,
      "metadata": {
        "id": "kth1cVv2yOAN"
      },
      "outputs": [],
      "source": [
        "import csv\n",
        "submission.to_csv(\"sample_submission.csv\", header=True, index=False, quoting=csv.QUOTE_NONNUMERIC)"
      ]
    },
    {
      "cell_type": "code",
      "execution_count": null,
      "metadata": {
        "colab": {
          "base_uri": "https://localhost:8080/",
          "height": 17
        },
        "id": "ydFfkp6zui63",
        "outputId": "921c01d0-34bf-44d6-9914-ff1ed56455a3"
      },
      "outputs": [
        {
          "output_type": "display_data",
          "data": {
            "text/plain": [
              "<IPython.core.display.Javascript object>"
            ],
            "application/javascript": [
              "\n",
              "    async function download(id, filename, size) {\n",
              "      if (!google.colab.kernel.accessAllowed) {\n",
              "        return;\n",
              "      }\n",
              "      const div = document.createElement('div');\n",
              "      const label = document.createElement('label');\n",
              "      label.textContent = `Downloading \"${filename}\": `;\n",
              "      div.appendChild(label);\n",
              "      const progress = document.createElement('progress');\n",
              "      progress.max = size;\n",
              "      div.appendChild(progress);\n",
              "      document.body.appendChild(div);\n",
              "\n",
              "      const buffers = [];\n",
              "      let downloaded = 0;\n",
              "\n",
              "      const channel = await google.colab.kernel.comms.open(id);\n",
              "      // Send a message to notify the kernel that we're ready.\n",
              "      channel.send({})\n",
              "\n",
              "      for await (const message of channel.messages) {\n",
              "        // Send a message to notify the kernel that we're ready.\n",
              "        channel.send({})\n",
              "        if (message.buffers) {\n",
              "          for (const buffer of message.buffers) {\n",
              "            buffers.push(buffer);\n",
              "            downloaded += buffer.byteLength;\n",
              "            progress.value = downloaded;\n",
              "          }\n",
              "        }\n",
              "      }\n",
              "      const blob = new Blob(buffers, {type: 'application/binary'});\n",
              "      const a = document.createElement('a');\n",
              "      a.href = window.URL.createObjectURL(blob);\n",
              "      a.download = filename;\n",
              "      div.appendChild(a);\n",
              "      a.click();\n",
              "      div.remove();\n",
              "    }\n",
              "  "
            ]
          },
          "metadata": {}
        },
        {
          "output_type": "display_data",
          "data": {
            "text/plain": [
              "<IPython.core.display.Javascript object>"
            ],
            "application/javascript": [
              "download(\"download_0cc7db57-a7cc-4e0f-af50-6a78cb497d14\", \"sample_submission.csv\", 7743)"
            ]
          },
          "metadata": {}
        }
      ],
      "source": [
        "from google.colab import files\n",
        "files.download('sample_submission.csv')"
      ]
    }
  ],
  "metadata": {
    "colab": {
      "collapsed_sections": [],
      "provenance": [],
      "toc_visible": true
    },
    "kernelspec": {
      "display_name": "Python 3",
      "name": "python3"
    },
    "language_info": {
      "name": "python"
    }
  },
  "nbformat": 4,
  "nbformat_minor": 0
}